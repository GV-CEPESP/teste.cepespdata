{
 "cells": [
  {
   "cell_type": "markdown",
   "metadata": {},
   "source": [
    "# Script Molde\n",
    "\n",
    "Cria os moldes a partir dos quais as requisições do CEPESPData serão comparadas"
   ]
  },
  {
   "cell_type": "code",
   "execution_count": 23,
   "metadata": {},
   "outputs": [],
   "source": [
    "import numpy as np\n",
    "import pandas as pd\n",
    "import os\n",
    "import csv\n",
    "\n",
    "if not os.path.exists(\"data/moldes\"):\n",
    "    os.makedirs(\"data/moldes\")"
   ]
  },
  {
   "cell_type": "markdown",
   "metadata": {},
   "source": [
    "## Molde Vagas"
   ]
  },
  {
   "cell_type": "code",
   "execution_count": 24,
   "metadata": {},
   "outputs": [],
   "source": [
    "# Readind vagas paths and storing\n",
    "b_path = \"raw_data/arquivos_vagas/unziped/\"\n",
    "paths = {str(ano): (lambda ano: os.listdir(b_path + str(ano)))(ano) for ano in range(1998,2022,4)}\n",
    "\n",
    "# Defining Headers\n",
    "headers = [\"DATA_GERACAO\", \"HORA_GERACAO\", \"ANO_ELEICAO\",\"DESCRICAO_ELEICAO\", \"SIGLA_UF\",\n",
    "           \"SIGLA_UE\", \"NOME_UE\", \"CODIGO_CARGO\", \"DESCRICAO_CARGO\", \"QTDE_VAGAS\"]"
   ]
  },
  {
   "cell_type": "code",
   "execution_count": 25,
   "metadata": {},
   "outputs": [
    {
     "name": "stdout",
     "output_type": "stream",
     "text": [
      "Reading 1998...\n",
      "Reading 2002...\n",
      "Reading 2006...\n",
      "Reading 2010...\n",
      "Reading 2014...\n",
      "Reading 2018...\n"
     ]
    }
   ],
   "source": [
    "data = []\n",
    "for ano in range(1998,2022,4):\n",
    "    ano = str(ano)\n",
    "    print(\"Reading {}...\".format(ano))\n",
    "    if ano == '2014' or ano == '2018':\n",
    "        skiprows_use=1\n",
    "    else:\n",
    "        skiprows_use=None\n",
    "\n",
    "    for file in paths[ano]:\n",
    "        if 'txt' in file or 'csv' in file:\n",
    "            data.append(pd.read_csv(b_path + ano + \"/\" + file,\n",
    "                                sep = ';',\n",
    "                                encoding='latin_1',\n",
    "                                header=None,\n",
    "                                skiprows=skiprows_use))        "
   ]
  },
  {
   "cell_type": "code",
   "execution_count": 26,
   "metadata": {},
   "outputs": [],
   "source": [
    "for i in range(len(data)):\n",
    "        if len(data[i].columns) == 10:\n",
    "            data[i].columns = headers\n",
    "        else:\n",
    "            data[i] = data[i].iloc[:,[0,1,2,6,9,10,11,12,13,14]]\n",
    "            data[i].columns = headers\n",
    "    \n",
    "# Bindng all data\n",
    "data = pd.concat(data)\n",
    "\n",
    "# Droping obs\n",
    "data = data[np.in1d(data.DESCRICAO_ELEICAO, ['Eleição Suplementar Governador AM', 'Eleição Suplementar Governador - TO'], invert=True)]\n",
    "\n",
    "# Droping coluns which will not be used\n",
    "data = data.iloc[:,2:len(data.columns)].drop([\"SIGLA_UF\", 'DESCRICAO_ELEICAO'], axis = 1)\n",
    "\n",
    "# Creating by hand president DataFrame\n",
    "vagas_presidente = {'ANO_ELEICAO': np.arange(1998,2018,4),\n",
    "                    'SIGLA_UE': \"BR\",\n",
    "                    'CODIGO_CARGO': 1,\n",
    "                    'QTDE_VAGAS': 1}"
   ]
  },
  {
   "cell_type": "code",
   "execution_count": 27,
   "metadata": {},
   "outputs": [],
   "source": [
    "data = data.apply(lambda x: x.str.upper() if hasattr(x, 'str') else x, axis=0)"
   ]
  },
  {
   "cell_type": "code",
   "execution_count": 28,
   "metadata": {},
   "outputs": [],
   "source": [
    "data = data[['ANO_ELEICAO', 'SIGLA_UE', 'CODIGO_CARGO', \"QTDE_VAGAS\"]]"
   ]
  },
  {
   "cell_type": "code",
   "execution_count": 29,
   "metadata": {},
   "outputs": [
    {
     "name": "stdout",
     "output_type": "stream",
     "text": [
      "Writing data into molde_vagas.csv\n"
     ]
    }
   ],
   "source": [
    "presidente_df = pd.DataFrame(vagas_presidente)\n",
    "    \n",
    "# Binding president and data together\n",
    "\n",
    "data = pd.concat([data, presidente_df])\n",
    "\n",
    "data = data.drop_duplicates()\n",
    "\n",
    "print(\"Writing data into molde_vagas.csv\")\n",
    "\n",
    "data.to_csv(\"data/moldes/molde_vagas.csv\")"
   ]
  },
  {
   "cell_type": "markdown",
   "metadata": {},
   "source": [
    "## Molde Seção"
   ]
  },
  {
   "cell_type": "code",
   "execution_count": 34,
   "metadata": {},
   "outputs": [],
   "source": [
    "data = \"çççççç\""
   ]
  },
  {
   "cell_type": "code",
   "execution_count": 39,
   "metadata": {},
   "outputs": [
    {
     "data": {
      "text/plain": [
       "''"
      ]
     },
     "execution_count": 39,
     "metadata": {},
     "output_type": "execute_result"
    }
   ],
   "source": [
    "data.encode('utf-8').decode('ascii', 'ignore')"
   ]
  },
  {
   "cell_type": "code",
   "execution_count": 12,
   "metadata": {},
   "outputs": [],
   "source": [
    "# Readind vagas paths and storing\n",
    "b_path = \"raw_data/arquivos_secao/unziped/\"\n",
    "paths = {str(ano): (lambda ano: os.listdir(b_path + str(ano)))(ano) for ano in range(1998,2022,4)}\n",
    "\n",
    "\n",
    "# Defining Headers\n",
    "headers = [\"DATA_GERACAO\", \"HORA_GERACAO\", \"ANO_ELEICAO\", \"NUM_TURNO\", \"DESCRICAO_ELEICAO\",\n",
    "           \"SIGLA_UF\", \"SIGLA_UE\", \"CODIGO_MUNICIPIO\", \"NOME_MUNICIPIO\",\"NUM_ZONA\",\"NUM_SECAO\",\n",
    "           \"CODIGO_CARGO\", \"DESCRICAO_CARGO\", \"QTD_APTOS\", \"QTD_COMPARECIMENTO\", \"QTD_ABSTENCOES\", \n",
    "           \"QT_VOTOS_NOMINAIS\", \"QT_VOTOS_BRANCOS\", \"QT_VOTOS_NULOS\", \"QT_VOTOS_LEGENDA\",\n",
    "           \"QT_VOTOS_ANULADOS_APU_SEP\"]"
   ]
  },
  {
   "cell_type": "code",
   "execution_count": 22,
   "metadata": {},
   "outputs": [
    {
     "name": "stdout",
     "output_type": "stream",
     "text": [
      "Parsing data from 1998...\n",
      "detalhe_votacao_secao_1998_RN.txt\n",
      "detalhe_votacao_secao_1998_AP.txt\n",
      "detalhe_votacao_secao_1998_BR.txt\n",
      "detalhe_votacao_secao_1998_MA.txt\n",
      "detalhe_votacao_secao_1998_AL.txt\n",
      "detalhe_votacao_secao_1998_RJ.txt\n",
      "detalhe_votacao_secao_1998_RS.txt\n",
      "detalhe_votacao_secao_1998_RR.txt\n",
      "detalhe_votacao_secao_1998_PE.txt\n",
      "detalhe_votacao_secao_1998_MT.txt\n",
      "detalhe_votacao_secao_1998_AC.txt\n",
      "detalhe_votacao_secao_1998_MG.txt\n",
      "detalhe_votacao_secao_1998_BA.txt\n",
      "detalhe_votacao_secao_1998_DF.txt\n",
      "detalhe_votacao_secao_1998_SE.txt\n",
      "detalhe_votacao_secao_1998_PI.txt\n",
      "detalhe_votacao_secao_1998_ZZ.txt\n",
      "detalhe_votacao_secao_1998_AM.txt\n",
      "detalhe_votacao_secao_1998_PR.txt\n",
      "detalhe_votacao_secao_1998_MS.txt\n",
      "detalhe_votacao_secao_1998_SC.txt\n",
      "detalhe_votacao_secao_1998_TO.txt\n",
      "detalhe_votacao_secao_1998_GO.txt\n",
      "detalhe_votacao_secao_1998_RO.txt\n",
      "detalhe_votacao_secao_1998_SP.txt\n",
      "detalhe_votacao_secao_1998_PB.txt\n",
      "detalhe_votacao_secao_1998_PA.txt\n",
      "detalhe_votacao_secao_1998_CE.txt\n",
      "detalhe_votacao_secao_1998_ES.txt\n",
      "Parsing data from 2002...\n",
      "detalhe_votacao_secao_2002_PE.txt\n",
      "detalhe_votacao_secao_2002_RR.txt\n",
      "detalhe_votacao_secao_2002_AM.txt\n",
      "detalhe_votacao_secao_2002_BR_PE.txt\n",
      "detalhe_votacao_secao_2002_BR_PB.txt\n",
      "detalhe_votacao_secao_2002_BR_TO.txt\n",
      "detalhe_votacao_secao_2002_AL.txt\n",
      "detalhe_votacao_secao_2002_PR.txt\n",
      "detalhe_votacao_secao_2002_BR_RR.txt\n",
      "detalhe_votacao_secao_2002_GO.txt\n",
      "detalhe_votacao_secao_2002_RN.txt\n",
      "detalhe_votacao_secao_2002_BA.txt\n"
     ]
    },
    {
     "ename": "ParserError",
     "evalue": "Error tokenizing data. C error: Expected 21 fields in line 34841, saw 93\n",
     "output_type": "error",
     "traceback": [
      "\u001b[0;31m---------------------------------------------------------------------------\u001b[0m",
      "\u001b[0;31mParserError\u001b[0m                               Traceback (most recent call last)",
      "\u001b[0;32m<ipython-input-22-bc75f831f8c8>\u001b[0m in \u001b[0;36m<module>\u001b[0;34m\u001b[0m\n\u001b[1;32m      7\u001b[0m         \u001b[0;32mif\u001b[0m \u001b[0;34m'txt'\u001b[0m \u001b[0;32min\u001b[0m \u001b[0mfile\u001b[0m \u001b[0;32mor\u001b[0m \u001b[0;34m'csv'\u001b[0m \u001b[0;32min\u001b[0m \u001b[0mfile\u001b[0m\u001b[0;34m:\u001b[0m\u001b[0;34m\u001b[0m\u001b[0m\n\u001b[1;32m      8\u001b[0m             \u001b[0mprint\u001b[0m\u001b[0;34m(\u001b[0m\u001b[0mfile\u001b[0m\u001b[0;34m)\u001b[0m\u001b[0;34m\u001b[0m\u001b[0m\n\u001b[0;32m----> 9\u001b[0;31m             \u001b[0mdata_spec\u001b[0m\u001b[0;34m.\u001b[0m\u001b[0mappend\u001b[0m\u001b[0;34m(\u001b[0m\u001b[0mpd\u001b[0m\u001b[0;34m.\u001b[0m\u001b[0mread_csv\u001b[0m\u001b[0;34m(\u001b[0m\u001b[0mb_path\u001b[0m \u001b[0;34m+\u001b[0m \u001b[0mano\u001b[0m \u001b[0;34m+\u001b[0m \u001b[0;34m'/'\u001b[0m \u001b[0;34m+\u001b[0m \u001b[0mfile\u001b[0m\u001b[0;34m,\u001b[0m \u001b[0msep\u001b[0m \u001b[0;34m=\u001b[0m \u001b[0;34m';'\u001b[0m\u001b[0;34m,\u001b[0m \u001b[0mheader\u001b[0m\u001b[0;34m=\u001b[0m\u001b[0;32mNone\u001b[0m\u001b[0;34m,\u001b[0m \u001b[0mencoding\u001b[0m\u001b[0;34m=\u001b[0m\u001b[0;34m\"latin-1\"\u001b[0m\u001b[0;34m)\u001b[0m\u001b[0;34m)\u001b[0m\u001b[0;34m\u001b[0m\u001b[0m\n\u001b[0m\u001b[1;32m     10\u001b[0m \u001b[0;34m\u001b[0m\u001b[0m\n\u001b[1;32m     11\u001b[0m     \u001b[0mdata_spec\u001b[0m \u001b[0;34m=\u001b[0m \u001b[0mpd\u001b[0m\u001b[0;34m.\u001b[0m\u001b[0mconcat\u001b[0m\u001b[0;34m(\u001b[0m\u001b[0mdata_spec\u001b[0m\u001b[0;34m)\u001b[0m\u001b[0;34m\u001b[0m\u001b[0m\n",
      "\u001b[0;32m~/anaconda3/lib/python3.7/site-packages/pandas/io/parsers.py\u001b[0m in \u001b[0;36mparser_f\u001b[0;34m(filepath_or_buffer, sep, delimiter, header, names, index_col, usecols, squeeze, prefix, mangle_dupe_cols, dtype, engine, converters, true_values, false_values, skipinitialspace, skiprows, nrows, na_values, keep_default_na, na_filter, verbose, skip_blank_lines, parse_dates, infer_datetime_format, keep_date_col, date_parser, dayfirst, iterator, chunksize, compression, thousands, decimal, lineterminator, quotechar, quoting, escapechar, comment, encoding, dialect, tupleize_cols, error_bad_lines, warn_bad_lines, skipfooter, doublequote, delim_whitespace, low_memory, memory_map, float_precision)\u001b[0m\n\u001b[1;32m    676\u001b[0m                     skip_blank_lines=skip_blank_lines)\n\u001b[1;32m    677\u001b[0m \u001b[0;34m\u001b[0m\u001b[0m\n\u001b[0;32m--> 678\u001b[0;31m         \u001b[0;32mreturn\u001b[0m \u001b[0m_read\u001b[0m\u001b[0;34m(\u001b[0m\u001b[0mfilepath_or_buffer\u001b[0m\u001b[0;34m,\u001b[0m \u001b[0mkwds\u001b[0m\u001b[0;34m)\u001b[0m\u001b[0;34m\u001b[0m\u001b[0m\n\u001b[0m\u001b[1;32m    679\u001b[0m \u001b[0;34m\u001b[0m\u001b[0m\n\u001b[1;32m    680\u001b[0m     \u001b[0mparser_f\u001b[0m\u001b[0;34m.\u001b[0m\u001b[0m__name__\u001b[0m \u001b[0;34m=\u001b[0m \u001b[0mname\u001b[0m\u001b[0;34m\u001b[0m\u001b[0m\n",
      "\u001b[0;32m~/anaconda3/lib/python3.7/site-packages/pandas/io/parsers.py\u001b[0m in \u001b[0;36m_read\u001b[0;34m(filepath_or_buffer, kwds)\u001b[0m\n\u001b[1;32m    444\u001b[0m \u001b[0;34m\u001b[0m\u001b[0m\n\u001b[1;32m    445\u001b[0m     \u001b[0;32mtry\u001b[0m\u001b[0;34m:\u001b[0m\u001b[0;34m\u001b[0m\u001b[0m\n\u001b[0;32m--> 446\u001b[0;31m         \u001b[0mdata\u001b[0m \u001b[0;34m=\u001b[0m \u001b[0mparser\u001b[0m\u001b[0;34m.\u001b[0m\u001b[0mread\u001b[0m\u001b[0;34m(\u001b[0m\u001b[0mnrows\u001b[0m\u001b[0;34m)\u001b[0m\u001b[0;34m\u001b[0m\u001b[0m\n\u001b[0m\u001b[1;32m    447\u001b[0m     \u001b[0;32mfinally\u001b[0m\u001b[0;34m:\u001b[0m\u001b[0;34m\u001b[0m\u001b[0m\n\u001b[1;32m    448\u001b[0m         \u001b[0mparser\u001b[0m\u001b[0;34m.\u001b[0m\u001b[0mclose\u001b[0m\u001b[0;34m(\u001b[0m\u001b[0;34m)\u001b[0m\u001b[0;34m\u001b[0m\u001b[0m\n",
      "\u001b[0;32m~/anaconda3/lib/python3.7/site-packages/pandas/io/parsers.py\u001b[0m in \u001b[0;36mread\u001b[0;34m(self, nrows)\u001b[0m\n\u001b[1;32m   1034\u001b[0m                 \u001b[0;32mraise\u001b[0m \u001b[0mValueError\u001b[0m\u001b[0;34m(\u001b[0m\u001b[0;34m'skipfooter not supported for iteration'\u001b[0m\u001b[0;34m)\u001b[0m\u001b[0;34m\u001b[0m\u001b[0m\n\u001b[1;32m   1035\u001b[0m \u001b[0;34m\u001b[0m\u001b[0m\n\u001b[0;32m-> 1036\u001b[0;31m         \u001b[0mret\u001b[0m \u001b[0;34m=\u001b[0m \u001b[0mself\u001b[0m\u001b[0;34m.\u001b[0m\u001b[0m_engine\u001b[0m\u001b[0;34m.\u001b[0m\u001b[0mread\u001b[0m\u001b[0;34m(\u001b[0m\u001b[0mnrows\u001b[0m\u001b[0;34m)\u001b[0m\u001b[0;34m\u001b[0m\u001b[0m\n\u001b[0m\u001b[1;32m   1037\u001b[0m \u001b[0;34m\u001b[0m\u001b[0m\n\u001b[1;32m   1038\u001b[0m         \u001b[0;31m# May alter columns / col_dict\u001b[0m\u001b[0;34m\u001b[0m\u001b[0;34m\u001b[0m\u001b[0m\n",
      "\u001b[0;32m~/anaconda3/lib/python3.7/site-packages/pandas/io/parsers.py\u001b[0m in \u001b[0;36mread\u001b[0;34m(self, nrows)\u001b[0m\n\u001b[1;32m   1846\u001b[0m     \u001b[0;32mdef\u001b[0m \u001b[0mread\u001b[0m\u001b[0;34m(\u001b[0m\u001b[0mself\u001b[0m\u001b[0;34m,\u001b[0m \u001b[0mnrows\u001b[0m\u001b[0;34m=\u001b[0m\u001b[0;32mNone\u001b[0m\u001b[0;34m)\u001b[0m\u001b[0;34m:\u001b[0m\u001b[0;34m\u001b[0m\u001b[0m\n\u001b[1;32m   1847\u001b[0m         \u001b[0;32mtry\u001b[0m\u001b[0;34m:\u001b[0m\u001b[0;34m\u001b[0m\u001b[0m\n\u001b[0;32m-> 1848\u001b[0;31m             \u001b[0mdata\u001b[0m \u001b[0;34m=\u001b[0m \u001b[0mself\u001b[0m\u001b[0;34m.\u001b[0m\u001b[0m_reader\u001b[0m\u001b[0;34m.\u001b[0m\u001b[0mread\u001b[0m\u001b[0;34m(\u001b[0m\u001b[0mnrows\u001b[0m\u001b[0;34m)\u001b[0m\u001b[0;34m\u001b[0m\u001b[0m\n\u001b[0m\u001b[1;32m   1849\u001b[0m         \u001b[0;32mexcept\u001b[0m \u001b[0mStopIteration\u001b[0m\u001b[0;34m:\u001b[0m\u001b[0;34m\u001b[0m\u001b[0m\n\u001b[1;32m   1850\u001b[0m             \u001b[0;32mif\u001b[0m \u001b[0mself\u001b[0m\u001b[0;34m.\u001b[0m\u001b[0m_first_chunk\u001b[0m\u001b[0;34m:\u001b[0m\u001b[0;34m\u001b[0m\u001b[0m\n",
      "\u001b[0;32mpandas/_libs/parsers.pyx\u001b[0m in \u001b[0;36mpandas._libs.parsers.TextReader.read\u001b[0;34m()\u001b[0m\n",
      "\u001b[0;32mpandas/_libs/parsers.pyx\u001b[0m in \u001b[0;36mpandas._libs.parsers.TextReader._read_low_memory\u001b[0;34m()\u001b[0m\n",
      "\u001b[0;32mpandas/_libs/parsers.pyx\u001b[0m in \u001b[0;36mpandas._libs.parsers.TextReader._read_rows\u001b[0;34m()\u001b[0m\n",
      "\u001b[0;32mpandas/_libs/parsers.pyx\u001b[0m in \u001b[0;36mpandas._libs.parsers.TextReader._tokenize_rows\u001b[0;34m()\u001b[0m\n",
      "\u001b[0;32mpandas/_libs/parsers.pyx\u001b[0m in \u001b[0;36mpandas._libs.parsers.raise_parser_error\u001b[0;34m()\u001b[0m\n",
      "\u001b[0;31mParserError\u001b[0m: Error tokenizing data. C error: Expected 21 fields in line 34841, saw 93\n"
     ]
    }
   ],
   "source": [
    "data = []\n",
    "for ano in range(1998,2022,4):\n",
    "    ano = str(ano)\n",
    "    print(\"Parsing data from {}...\".format(ano))\n",
    "    data_spec = []\n",
    "    for file in paths[ano]:\n",
    "        if 'txt' in file or 'csv' in file:\n",
    "            print(file)\n",
    "            data_spec.append(pd.read_csv(b_path + ano + '/' + file, sep = ';', header=None, encoding=\"latin-1\"))\n",
    "\n",
    "    data_spec = pd.concat(data_spec)\n",
    "    data_spec.columns = headers\n",
    "\n",
    "    data_spec = data_spec.loc[:,['ANO_ELEICAO',\n",
    "                                 'NUM_TURNO',\n",
    "                                 'DESCRICAO_ELEICAO',\n",
    "                                 'SIGLA_UE',\n",
    "                                 'CODIGO_MUNICIPIO',\n",
    "                                 'NOME_MUNICIPIO',\n",
    "                                 'CODIGO_CARGO',\n",
    "                                 'DESCRICAO_CARGO',\n",
    "                                 'QTD_APTOS',\n",
    "                                 'QTD_COMPARECIMENTO']]\n",
    "\n",
    "    data_spec = data_spec.groupby(['ANO_ELEICAO',\n",
    "                                   'NUM_TURNO',\n",
    "                                   'DESCRICAO_ELEICAO',\n",
    "                                   'SIGLA_UE',\n",
    "                                   'CODIGO_MUNICIPIO',\n",
    "                                   'NOME_MUNICIPIO',\n",
    "                                   'CODIGO_CARGO',\n",
    "                                   'DESCRICAO_CARGO',])\n",
    "\n",
    "    data_spec = data_spec.sum().reset_index()\n",
    "\n",
    "    data.append(data_spec)\n",
    "\n",
    "data = pd.concat(data)"
   ]
  },
  {
   "cell_type": "code",
   "execution_count": null,
   "metadata": {},
   "outputs": [],
   "source": [
    "for ano in np.arange(2010,1998,-8):\n",
    "    temp = data.loc[(data.ANO_ELEICAO == ano) & (data.CODIGO_CARGO == 5),[\"QTD_APTOS\", \"QTD_COMPARECIMENTO\"]]\n",
    "    temp = temp * 2\n",
    "    data.loc[(data.ANO_ELEICAO == ano) & (data.CODIGO_CARGO == 5),[\"QTD_APTOS\", \"QTD_COMPARECIMENTO\"]] = temp\n",
    "\n",
    "temp = data.loc[(data.ANO_ELEICAO == 2002) & (data.CODIGO_CARGO == 1),[\"QTD_APTOS\", \"QTD_COMPARECIMENTO\"]]\n",
    "\n",
    "temp = temp / 2\n",
    "\n",
    "data.loc[(data.ANO_ELEICAO == 2002) & (data.CODIGO_CARGO == 1),[\"QTD_APTOS\", \"QTD_COMPARECIMENTO\"]] = temp\n",
    "\n",
    "data.to_csv(\"data/moldes/molde_secao.csv\")    "
   ]
  },
  {
   "cell_type": "code",
   "execution_count": null,
   "metadata": {},
   "outputs": [],
   "source": [
    "data = create_molde_secao()"
   ]
  },
  {
   "cell_type": "code",
   "execution_count": null,
   "metadata": {},
   "outputs": [],
   "source": [
    "data[data.ANO_ELEICAO == 2002].head()"
   ]
  },
  {
   "cell_type": "code",
   "execution_count": null,
   "metadata": {},
   "outputs": [],
   "source": []
  }
 ],
 "metadata": {
  "kernelspec": {
   "display_name": "Python 3",
   "language": "python",
   "name": "python3"
  },
  "language_info": {
   "codemirror_mode": {
    "name": "ipython",
    "version": 3
   },
   "file_extension": ".py",
   "mimetype": "text/x-python",
   "name": "python",
   "nbconvert_exporter": "python",
   "pygments_lexer": "ipython3",
   "version": "3.7.0"
  }
 },
 "nbformat": 4,
 "nbformat_minor": 2
}
