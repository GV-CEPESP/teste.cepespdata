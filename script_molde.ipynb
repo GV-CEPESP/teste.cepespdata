{
 "cells": [
  {
   "cell_type": "markdown",
   "metadata": {},
   "source": [
    "# Script Molde\n",
    "\n",
    "Cria os moldes a partir dos quais as requisições do CEPESPData serão comparadas"
   ]
  },
  {
   "cell_type": "code",
   "execution_count": 1,
   "metadata": {},
   "outputs": [],
   "source": [
    "import numpy as np\n",
    "import pandas as pd\n",
    "import os\n",
    "import csv\n",
    "\n",
    "if not os.path.exists(\"data/moldes\"):\n",
    "    os.makedirs(\"data/moldes\")"
   ]
  },
  {
   "cell_type": "markdown",
   "metadata": {},
   "source": [
    "## Molde Vagas"
   ]
  },
  {
   "cell_type": "code",
   "execution_count": 2,
   "metadata": {},
   "outputs": [],
   "source": [
    "# Readind vagas paths and storing\n",
    "b_path = \"raw_data/arquivos_vagas/unziped/\"\n",
    "paths = {str(ano): (lambda ano: os.listdir(b_path + str(ano)))(ano) for ano in range(1998,2022,4)}\n",
    "\n",
    "# Defining Headers\n",
    "headers = [\"DATA_GERACAO\", \"HORA_GERACAO\", \"ANO_ELEICAO\",\"DESCRICAO_ELEICAO\", \"SIGLA_UF\",\n",
    "           \"SIGLA_UE\", \"NOME_UE\", \"CODIGO_CARGO\", \"DESCRICAO_CARGO\", \"QTDE_VAGAS\"]"
   ]
  },
  {
   "cell_type": "code",
   "execution_count": 3,
   "metadata": {},
   "outputs": [
    {
     "name": "stdout",
     "output_type": "stream",
     "text": [
      "Reading 1998...\n",
      "Reading 2002...\n",
      "Reading 2006...\n",
      "Reading 2010...\n",
      "Reading 2014...\n",
      "Reading 2018...\n"
     ]
    }
   ],
   "source": [
    "data = []\n",
    "for ano in range(1998,2022,4):\n",
    "    ano = str(ano)\n",
    "    print(\"Reading {}...\".format(ano))\n",
    "    if ano == '2014' or ano == '2018':\n",
    "        skiprows_use=1\n",
    "    else:\n",
    "        skiprows_use=None\n",
    "\n",
    "    for file in paths[ano]:\n",
    "        if 'txt' in file or 'csv' in file:\n",
    "            data.append(pd.read_csv(b_path + ano + \"/\" + file,\n",
    "                                sep = ';',\n",
    "                                encoding='latin_1',\n",
    "                                header=None,\n",
    "                                skiprows=skiprows_use))        "
   ]
  },
  {
   "cell_type": "code",
   "execution_count": 4,
   "metadata": {},
   "outputs": [],
   "source": [
    "for i in range(len(data)):\n",
    "        if len(data[i].columns) == 10:\n",
    "            data[i].columns = headers\n",
    "        else:\n",
    "            data[i] = data[i].iloc[:,[0,1,2,6,9,10,11,12,13,14]]\n",
    "            data[i].columns = headers\n",
    "    \n",
    "# Bindng all data\n",
    "data = pd.concat(data)\n",
    "\n",
    "# Droping obs\n",
    "data = data[np.in1d(data.DESCRICAO_ELEICAO, ['Eleição Suplementar Governador AM', 'Eleição Suplementar Governador - TO'], invert=True)]\n",
    "\n",
    "# Droping coluns which will not be used\n",
    "data = data.iloc[:,2:len(data.columns)].drop([\"SIGLA_UF\", 'DESCRICAO_ELEICAO'], axis = 1)\n",
    "\n",
    "# Creating by hand president DataFrame\n",
    "vagas_presidente = {'ANO_ELEICAO': np.arange(1998,2018,4),\n",
    "                    'SIGLA_UE': \"BR\",\n",
    "                    'CODIGO_CARGO': 1,\n",
    "                    'QTDE_VAGAS': 1}"
   ]
  },
  {
   "cell_type": "code",
   "execution_count": 5,
   "metadata": {},
   "outputs": [],
   "source": [
    "data = data.apply(lambda x: x.str.upper() if hasattr(x, 'str') else x, axis=0)"
   ]
  },
  {
   "cell_type": "code",
   "execution_count": 6,
   "metadata": {},
   "outputs": [],
   "source": [
    "data = data[['ANO_ELEICAO', 'SIGLA_UE', 'CODIGO_CARGO', \"QTDE_VAGAS\"]]"
   ]
  },
  {
   "cell_type": "code",
   "execution_count": 7,
   "metadata": {},
   "outputs": [
    {
     "name": "stdout",
     "output_type": "stream",
     "text": [
      "Writing data into molde_vagas.csv\n"
     ]
    }
   ],
   "source": [
    "presidente_df = pd.DataFrame(vagas_presidente)\n",
    "    \n",
    "# Binding president and data together\n",
    "\n",
    "data = pd.concat([data, presidente_df])\n",
    "\n",
    "data = data.drop_duplicates()\n",
    "\n",
    "print(\"Writing data into molde_vagas.csv\")\n",
    "\n",
    "data.to_csv(\"data/moldes/molde_vagas.csv\", index = False)"
   ]
  },
  {
   "cell_type": "markdown",
   "metadata": {},
   "source": [
    "## Molde Seção"
   ]
  },
  {
   "cell_type": "code",
   "execution_count": 2,
   "metadata": {},
   "outputs": [],
   "source": [
    "# Readind vagas paths and storing\n",
    "b_path = \"raw_data/arquivos_secao/unziped/\"\n",
    "paths = {str(ano): (lambda ano: os.listdir(b_path + str(ano)))(ano) for ano in range(1998,2022,4)}\n",
    "\n",
    "\n",
    "# Defining Headers\n",
    "headers = [\"DATA_GERACAO\", \"HORA_GERACAO\", \"ANO_ELEICAO\", \"NUM_TURNO\", \"DESCRICAO_ELEICAO\",\n",
    "           \"SIGLA_UF\", \"SIGLA_UE\", \"CODIGO_MUNICIPIO\", \"NOME_MUNICIPIO\",\"NUM_ZONA\",\"NUM_SECAO\",\n",
    "           \"CODIGO_CARGO\", \"DESCRICAO_CARGO\", \"QTD_APTOS\", \"QTD_COMPARECIMENTO\", \"QTD_ABSTENCOES\", \n",
    "           \"QT_VOTOS_NOMINAIS\", \"QT_VOTOS_BRANCOS\", \"QT_VOTOS_NULOS\", \"QT_VOTOS_LEGENDA\",\n",
    "           \"QT_VOTOS_ANULADOS_APU_SEP\"]\n",
    "\n",
    "headers_2018 = ['DATA_GERACAO', 'HORA_GERACAO', 'ANO_ELEICAO', 'CD_TIPO_ELEICAO',\n",
    "                'NM_TIPO_ELEICAO', 'NUM_TURNO', 'CD_ELEICAO', 'DESCRICAO_ELEICAO', 'DT_ELEICAO',\n",
    "                'TP_ABRANGENCIA', 'SIGLA_UF', 'SIGLA_UE', 'NM_UE', 'CODIGO_MUNICIPIO',\n",
    "                'NM_MUNICIPIO', 'NR_ZONA', 'NR_SECAO', 'CODIGO_CARGO', 'DS_CARGO',\n",
    "                'QTD_APTOS', 'QTD_COMPARECIMENTO', 'QTD_ABSTENCOES', 'QT_VOTOS_NOMINAIS',\n",
    "                'QT_VOTOS_BRANCOS', 'QT_VOTOS_NULOS', 'QT_VOTOS_LEGENDA',\n",
    "                'QT_VOTOS_PENDENTES']\n"
   ]
  },
  {
   "cell_type": "code",
   "execution_count": 34,
   "metadata": {},
   "outputs": [
    {
     "name": "stdout",
     "output_type": "stream",
     "text": [
      "Parsing data from 2006...\n",
      "Parsing data from 2010...\n",
      "Parsing data from 2014...\n",
      "Parsing data from 2018...\n"
     ]
    }
   ],
   "source": [
    "data = []\n",
    "for ano in range(2006,2022,4):\n",
    "    ano = str(ano)\n",
    "    print(\"Parsing data from {}...\".format(ano))\n",
    "    data_spec = []\n",
    "    if ano == '2018':\n",
    "        header_use = headers_2018\n",
    "        skiprows_use = 1\n",
    "    else:\n",
    "        header_use = headers\n",
    "        skiprows_use = None\n",
    "        \n",
    "    for file in paths[ano]:\n",
    "        if 'txt' in file or 'csv' in file:\n",
    "            banco_temp = pd.read_csv(b_path + ano + '/' + file,\n",
    "                                     sep = ';',\n",
    "                                     header=None,\n",
    "                                     names = header_use,\n",
    "                                     skiprows = skiprows_use,\n",
    "                                     encoding=\"latin-1\")\n",
    "            \n",
    "            banco_temp = banco_temp[['ANO_ELEICAO',\n",
    "                                     'NUM_TURNO',\n",
    "                                     'SIGLA_UF',\n",
    "                                     'CODIGO_MUNICIPIO',\n",
    "                                     'CODIGO_CARGO',\n",
    "                                     'QTD_APTOS',\n",
    "                                     'QTD_COMPARECIMENTO']]\n",
    "            data_spec.append(banco_temp)\n",
    "\n",
    "    data_spec = pd.concat(data_spec)\n",
    "\n",
    "    data_spec = data_spec.groupby(['ANO_ELEICAO',\n",
    "                                   'NUM_TURNO',\n",
    "                                   'SIGLA_UF',\n",
    "                                   'CODIGO_MUNICIPIO',\n",
    "                                   'CODIGO_CARGO',])\n",
    "\n",
    "    data_spec = data_spec.sum().reset_index()\n",
    "\n",
    "    data.append(data_spec)\n",
    "\n",
    "data = pd.concat(data)"
   ]
  },
  {
   "cell_type": "code",
   "execution_count": 37,
   "metadata": {},
   "outputs": [
    {
     "ename": "AttributeError",
     "evalue": "'DataFrame' object has no attribute 'ANO_ELEICAO'",
     "output_type": "error",
     "traceback": [
      "\u001b[0;31m---------------------------------------------------------------------------\u001b[0m",
      "\u001b[0;31mAttributeError\u001b[0m                            Traceback (most recent call last)",
      "\u001b[0;32m<ipython-input-37-da68a58b72a5>\u001b[0m in \u001b[0;36m<module>\u001b[0;34m\u001b[0m\n\u001b[0;32m----> 1\u001b[0;31m \u001b[0mdata\u001b[0m\u001b[0;34m[\u001b[0m\u001b[0;34m(\u001b[0m\u001b[0mdata\u001b[0m\u001b[0;34m.\u001b[0m\u001b[0mANO_ELEICAO\u001b[0m \u001b[0;34m==\u001b[0m \u001b[0;36m2018\u001b[0m\u001b[0;34m)\u001b[0m \u001b[0;34m&\u001b[0m \u001b[0;34m(\u001b[0m\u001b[0mdata\u001b[0m\u001b[0;34m.\u001b[0m\u001b[0mCODIGO_CARGO\u001b[0m \u001b[0;34m==\u001b[0m \u001b[0;36m5\u001b[0m\u001b[0;34m)\u001b[0m\u001b[0;34m]\u001b[0m\u001b[0;34m.\u001b[0m\u001b[0mhead\u001b[0m\u001b[0;34m(\u001b[0m\u001b[0;34m)\u001b[0m\u001b[0;34m\u001b[0m\u001b[0m\n\u001b[0m",
      "\u001b[0;32m~/anaconda3/lib/python3.7/site-packages/pandas/core/generic.py\u001b[0m in \u001b[0;36m__getattr__\u001b[0;34m(self, name)\u001b[0m\n\u001b[1;32m   4374\u001b[0m             \u001b[0;32mif\u001b[0m \u001b[0mself\u001b[0m\u001b[0;34m.\u001b[0m\u001b[0m_info_axis\u001b[0m\u001b[0;34m.\u001b[0m\u001b[0m_can_hold_identifiers_and_holds_name\u001b[0m\u001b[0;34m(\u001b[0m\u001b[0mname\u001b[0m\u001b[0;34m)\u001b[0m\u001b[0;34m:\u001b[0m\u001b[0;34m\u001b[0m\u001b[0m\n\u001b[1;32m   4375\u001b[0m                 \u001b[0;32mreturn\u001b[0m \u001b[0mself\u001b[0m\u001b[0;34m[\u001b[0m\u001b[0mname\u001b[0m\u001b[0;34m]\u001b[0m\u001b[0;34m\u001b[0m\u001b[0m\n\u001b[0;32m-> 4376\u001b[0;31m             \u001b[0;32mreturn\u001b[0m \u001b[0mobject\u001b[0m\u001b[0;34m.\u001b[0m\u001b[0m__getattribute__\u001b[0m\u001b[0;34m(\u001b[0m\u001b[0mself\u001b[0m\u001b[0;34m,\u001b[0m \u001b[0mname\u001b[0m\u001b[0;34m)\u001b[0m\u001b[0;34m\u001b[0m\u001b[0m\n\u001b[0m\u001b[1;32m   4377\u001b[0m \u001b[0;34m\u001b[0m\u001b[0m\n\u001b[1;32m   4378\u001b[0m     \u001b[0;32mdef\u001b[0m \u001b[0m__setattr__\u001b[0m\u001b[0;34m(\u001b[0m\u001b[0mself\u001b[0m\u001b[0;34m,\u001b[0m \u001b[0mname\u001b[0m\u001b[0;34m,\u001b[0m \u001b[0mvalue\u001b[0m\u001b[0;34m)\u001b[0m\u001b[0;34m:\u001b[0m\u001b[0;34m\u001b[0m\u001b[0m\n",
      "\u001b[0;31mAttributeError\u001b[0m: 'DataFrame' object has no attribute 'ANO_ELEICAO'"
     ]
    }
   ],
   "source": [
    "data[(data.ANO_ELEICAO == 2018) & (data.CODIGO_CARGO == 5)].head()"
   ]
  },
  {
   "cell_type": "code",
   "execution_count": 36,
   "metadata": {},
   "outputs": [],
   "source": [
    "for ano in np.arange(2018,1998,-8):\n",
    "    temp = data[(data.ANO_ELEICAO == ano) & (data.CODIGO_CARGO == 5)][[\"QTD_APTOS\", \"QTD_COMPARECIMENTO\"]]\n",
    "    temp *= 2\n",
    "    data.loc[(data.ANO_ELEICAO == ano) & (data.CODIGO_CARGO == 5),[\"QTD_APTOS\", \"QTD_COMPARECIMENTO\"]]= temp\n",
    "\n",
    "data.columns = data.columns.str.lower()\n",
    "\n",
    "data.rename(columns={'sigla_uf': 'uf'}, inplace=True)\n",
    "\n",
    "data.to_csv(\"data/moldes/molde_secao.csv\", index = False)    "
   ]
  },
  {
   "cell_type": "code",
   "execution_count": 38,
   "metadata": {},
   "outputs": [
    {
     "data": {
      "text/html": [
       "<div>\n",
       "<style scoped>\n",
       "    .dataframe tbody tr th:only-of-type {\n",
       "        vertical-align: middle;\n",
       "    }\n",
       "\n",
       "    .dataframe tbody tr th {\n",
       "        vertical-align: top;\n",
       "    }\n",
       "\n",
       "    .dataframe thead th {\n",
       "        text-align: right;\n",
       "    }\n",
       "</style>\n",
       "<table border=\"1\" class=\"dataframe\">\n",
       "  <thead>\n",
       "    <tr style=\"text-align: right;\">\n",
       "      <th></th>\n",
       "      <th>ano_eleicao</th>\n",
       "      <th>num_turno</th>\n",
       "      <th>uf</th>\n",
       "      <th>codigo_municipio</th>\n",
       "      <th>codigo_cargo</th>\n",
       "      <th>qtd_aptos</th>\n",
       "      <th>qtd_comparecimento</th>\n",
       "    </tr>\n",
       "  </thead>\n",
       "  <tbody>\n",
       "    <tr>\n",
       "      <th>2</th>\n",
       "      <td>2018</td>\n",
       "      <td>1</td>\n",
       "      <td>AC</td>\n",
       "      <td>1007</td>\n",
       "      <td>5</td>\n",
       "      <td>17368</td>\n",
       "      <td>13986</td>\n",
       "    </tr>\n",
       "    <tr>\n",
       "      <th>7</th>\n",
       "      <td>2018</td>\n",
       "      <td>1</td>\n",
       "      <td>AC</td>\n",
       "      <td>1015</td>\n",
       "      <td>5</td>\n",
       "      <td>13658</td>\n",
       "      <td>11702</td>\n",
       "    </tr>\n",
       "    <tr>\n",
       "      <th>12</th>\n",
       "      <td>2018</td>\n",
       "      <td>1</td>\n",
       "      <td>AC</td>\n",
       "      <td>1023</td>\n",
       "      <td>5</td>\n",
       "      <td>24648</td>\n",
       "      <td>20818</td>\n",
       "    </tr>\n",
       "    <tr>\n",
       "      <th>17</th>\n",
       "      <td>2018</td>\n",
       "      <td>1</td>\n",
       "      <td>AC</td>\n",
       "      <td>1031</td>\n",
       "      <td>5</td>\n",
       "      <td>6656</td>\n",
       "      <td>4684</td>\n",
       "    </tr>\n",
       "    <tr>\n",
       "      <th>22</th>\n",
       "      <td>2018</td>\n",
       "      <td>1</td>\n",
       "      <td>AC</td>\n",
       "      <td>1040</td>\n",
       "      <td>5</td>\n",
       "      <td>19080</td>\n",
       "      <td>14122</td>\n",
       "    </tr>\n",
       "  </tbody>\n",
       "</table>\n",
       "</div>"
      ],
      "text/plain": [
       "    ano_eleicao  num_turno  uf  codigo_municipio  codigo_cargo  qtd_aptos  \\\n",
       "2          2018          1  AC              1007             5      17368   \n",
       "7          2018          1  AC              1015             5      13658   \n",
       "12         2018          1  AC              1023             5      24648   \n",
       "17         2018          1  AC              1031             5       6656   \n",
       "22         2018          1  AC              1040             5      19080   \n",
       "\n",
       "    qtd_comparecimento  \n",
       "2                13986  \n",
       "7                11702  \n",
       "12               20818  \n",
       "17                4684  \n",
       "22               14122  "
      ]
     },
     "execution_count": 38,
     "metadata": {},
     "output_type": "execute_result"
    }
   ],
   "source": [
    "data[(data.codigo_cargo == 5) & (data.ano_eleicao == 2018)].head()"
   ]
  },
  {
   "cell_type": "markdown",
   "metadata": {},
   "source": [
    "## Número de Cidades"
   ]
  },
  {
   "cell_type": "code",
   "execution_count": 8,
   "metadata": {},
   "outputs": [],
   "source": [
    "banco = pd.read_csv(\"data/moldes/molde_secao.csv\")"
   ]
  },
  {
   "cell_type": "code",
   "execution_count": 9,
   "metadata": {},
   "outputs": [
    {
     "data": {
      "text/plain": [
       "Index(['ano_eleicao', 'num_turno', 'uf', 'codigo_municipio', 'codigo_cargo',\n",
       "       'qtd_aptos', 'qtd_comparecimento'],\n",
       "      dtype='object')"
      ]
     },
     "execution_count": 9,
     "metadata": {},
     "output_type": "execute_result"
    }
   ],
   "source": [
    "banco.columns"
   ]
  },
  {
   "cell_type": "code",
   "execution_count": 10,
   "metadata": {},
   "outputs": [],
   "source": [
    "banco = banco[['ano_eleicao','codigo_cargo','codigo_municipio']]"
   ]
  },
  {
   "cell_type": "code",
   "execution_count": 11,
   "metadata": {},
   "outputs": [],
   "source": [
    "banco = banco.drop_duplicates().groupby(['ano_eleicao', 'codigo_cargo']).agg(len).reset_index()"
   ]
  },
  {
   "cell_type": "code",
   "execution_count": 13,
   "metadata": {},
   "outputs": [],
   "source": [
    "banco.to_csv('data/moldes/molde_cidades.csv', index = False)"
   ]
  },
  {
   "cell_type": "code",
   "execution_count": 12,
   "metadata": {},
   "outputs": [
    {
     "data": {
      "text/html": [
       "<div>\n",
       "<style scoped>\n",
       "    .dataframe tbody tr th:only-of-type {\n",
       "        vertical-align: middle;\n",
       "    }\n",
       "\n",
       "    .dataframe tbody tr th {\n",
       "        vertical-align: top;\n",
       "    }\n",
       "\n",
       "    .dataframe thead th {\n",
       "        text-align: right;\n",
       "    }\n",
       "</style>\n",
       "<table border=\"1\" class=\"dataframe\">\n",
       "  <thead>\n",
       "    <tr style=\"text-align: right;\">\n",
       "      <th></th>\n",
       "      <th>ano_eleicao</th>\n",
       "      <th>codigo_cargo</th>\n",
       "      <th>codigo_municipio</th>\n",
       "    </tr>\n",
       "  </thead>\n",
       "  <tbody>\n",
       "    <tr>\n",
       "      <th>0</th>\n",
       "      <td>2006</td>\n",
       "      <td>1</td>\n",
       "      <td>5642</td>\n",
       "    </tr>\n",
       "    <tr>\n",
       "      <th>1</th>\n",
       "      <td>2006</td>\n",
       "      <td>3</td>\n",
       "      <td>5565</td>\n",
       "    </tr>\n",
       "    <tr>\n",
       "      <th>2</th>\n",
       "      <td>2006</td>\n",
       "      <td>5</td>\n",
       "      <td>5565</td>\n",
       "    </tr>\n",
       "    <tr>\n",
       "      <th>3</th>\n",
       "      <td>2006</td>\n",
       "      <td>6</td>\n",
       "      <td>5565</td>\n",
       "    </tr>\n",
       "    <tr>\n",
       "      <th>4</th>\n",
       "      <td>2006</td>\n",
       "      <td>7</td>\n",
       "      <td>5564</td>\n",
       "    </tr>\n",
       "    <tr>\n",
       "      <th>5</th>\n",
       "      <td>2006</td>\n",
       "      <td>8</td>\n",
       "      <td>1</td>\n",
       "    </tr>\n",
       "    <tr>\n",
       "      <th>6</th>\n",
       "      <td>2010</td>\n",
       "      <td>1</td>\n",
       "      <td>5720</td>\n",
       "    </tr>\n",
       "    <tr>\n",
       "      <th>7</th>\n",
       "      <td>2010</td>\n",
       "      <td>3</td>\n",
       "      <td>5567</td>\n",
       "    </tr>\n",
       "    <tr>\n",
       "      <th>8</th>\n",
       "      <td>2010</td>\n",
       "      <td>5</td>\n",
       "      <td>5567</td>\n",
       "    </tr>\n",
       "    <tr>\n",
       "      <th>9</th>\n",
       "      <td>2010</td>\n",
       "      <td>6</td>\n",
       "      <td>5567</td>\n",
       "    </tr>\n",
       "    <tr>\n",
       "      <th>10</th>\n",
       "      <td>2010</td>\n",
       "      <td>7</td>\n",
       "      <td>5566</td>\n",
       "    </tr>\n",
       "    <tr>\n",
       "      <th>11</th>\n",
       "      <td>2010</td>\n",
       "      <td>8</td>\n",
       "      <td>1</td>\n",
       "    </tr>\n",
       "    <tr>\n",
       "      <th>12</th>\n",
       "      <td>2014</td>\n",
       "      <td>1</td>\n",
       "      <td>5701</td>\n",
       "    </tr>\n",
       "    <tr>\n",
       "      <th>13</th>\n",
       "      <td>2014</td>\n",
       "      <td>3</td>\n",
       "      <td>5570</td>\n",
       "    </tr>\n",
       "    <tr>\n",
       "      <th>14</th>\n",
       "      <td>2014</td>\n",
       "      <td>5</td>\n",
       "      <td>5570</td>\n",
       "    </tr>\n",
       "    <tr>\n",
       "      <th>15</th>\n",
       "      <td>2014</td>\n",
       "      <td>6</td>\n",
       "      <td>5570</td>\n",
       "    </tr>\n",
       "    <tr>\n",
       "      <th>16</th>\n",
       "      <td>2014</td>\n",
       "      <td>7</td>\n",
       "      <td>5569</td>\n",
       "    </tr>\n",
       "    <tr>\n",
       "      <th>17</th>\n",
       "      <td>2014</td>\n",
       "      <td>8</td>\n",
       "      <td>1</td>\n",
       "    </tr>\n",
       "    <tr>\n",
       "      <th>18</th>\n",
       "      <td>2018</td>\n",
       "      <td>1</td>\n",
       "      <td>5708</td>\n",
       "    </tr>\n",
       "    <tr>\n",
       "      <th>19</th>\n",
       "      <td>2018</td>\n",
       "      <td>3</td>\n",
       "      <td>5570</td>\n",
       "    </tr>\n",
       "    <tr>\n",
       "      <th>20</th>\n",
       "      <td>2018</td>\n",
       "      <td>5</td>\n",
       "      <td>5570</td>\n",
       "    </tr>\n",
       "    <tr>\n",
       "      <th>21</th>\n",
       "      <td>2018</td>\n",
       "      <td>6</td>\n",
       "      <td>5570</td>\n",
       "    </tr>\n",
       "    <tr>\n",
       "      <th>22</th>\n",
       "      <td>2018</td>\n",
       "      <td>7</td>\n",
       "      <td>5569</td>\n",
       "    </tr>\n",
       "    <tr>\n",
       "      <th>23</th>\n",
       "      <td>2018</td>\n",
       "      <td>8</td>\n",
       "      <td>1</td>\n",
       "    </tr>\n",
       "  </tbody>\n",
       "</table>\n",
       "</div>"
      ],
      "text/plain": [
       "    ano_eleicao  codigo_cargo  codigo_municipio\n",
       "0          2006             1              5642\n",
       "1          2006             3              5565\n",
       "2          2006             5              5565\n",
       "3          2006             6              5565\n",
       "4          2006             7              5564\n",
       "5          2006             8                 1\n",
       "6          2010             1              5720\n",
       "7          2010             3              5567\n",
       "8          2010             5              5567\n",
       "9          2010             6              5567\n",
       "10         2010             7              5566\n",
       "11         2010             8                 1\n",
       "12         2014             1              5701\n",
       "13         2014             3              5570\n",
       "14         2014             5              5570\n",
       "15         2014             6              5570\n",
       "16         2014             7              5569\n",
       "17         2014             8                 1\n",
       "18         2018             1              5708\n",
       "19         2018             3              5570\n",
       "20         2018             5              5570\n",
       "21         2018             6              5570\n",
       "22         2018             7              5569\n",
       "23         2018             8                 1"
      ]
     },
     "execution_count": 12,
     "metadata": {},
     "output_type": "execute_result"
    }
   ],
   "source": [
    "banco"
   ]
  }
 ],
 "metadata": {
  "kernelspec": {
   "display_name": "Python 3",
   "language": "python",
   "name": "python3"
  },
  "language_info": {
   "codemirror_mode": {
    "name": "ipython",
    "version": 3
   },
   "file_extension": ".py",
   "mimetype": "text/x-python",
   "name": "python",
   "nbconvert_exporter": "python",
   "pygments_lexer": "ipython3",
   "version": "3.7.0"
  }
 },
 "nbformat": 4,
 "nbformat_minor": 2
}
