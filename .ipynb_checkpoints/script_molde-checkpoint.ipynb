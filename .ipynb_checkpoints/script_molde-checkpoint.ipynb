{
 "cells": [
  {
   "cell_type": "markdown",
   "metadata": {},
   "source": [
    "# Script Molde\n",
    "\n",
    "Cria os moldes a partir dos quais as requisições do CEPESPData serão comparadas"
   ]
  },
  {
   "cell_type": "code",
   "execution_count": 87,
   "metadata": {},
   "outputs": [],
   "source": [
    "import numpy as np\n",
    "import pandas as pd\n",
    "import os\n",
    "import csv\n",
    "\n",
    "if not os.path.exists(\"data/moldes\"):\n",
    "    os.makedirs(\"data/moldes\")"
   ]
  },
  {
   "cell_type": "code",
   "execution_count": 88,
   "metadata": {},
   "outputs": [],
   "source": [
    "# Readind vagas paths and storing\n",
    "b_path = \"raw_data/arquivos_vagas/unziped/\"\n",
    "paths = {str(ano): (lambda ano: os.listdir(b_path + str(ano)))(ano) for ano in range(1998,2022,4)}\n",
    "\n",
    "# Defining Headers\n",
    "headers = [\"DATA_GERACAO\", \"HORA_GERACAO\", \"ANO_ELEICAO\",\"DESCRICAO_ELEICAO\", \"SIGLA_UF\",\n",
    "           \"SIGLA_UE\", \"NOME_UE\", \"CODIGO_CARGO\", \"DESCRICAO_CARGO\", \"QTDE_VAGAS\"]"
   ]
  },
  {
   "cell_type": "code",
   "execution_count": 89,
   "metadata": {},
   "outputs": [
    {
     "name": "stdout",
     "output_type": "stream",
     "text": [
      "Reading 1998...\n",
      "Reading 2002...\n",
      "Reading 2006...\n",
      "Reading 2010...\n",
      "Reading 2014...\n",
      "Reading 2018...\n"
     ]
    }
   ],
   "source": [
    "data = []\n",
    "for ano in range(1998,2022,4):\n",
    "    ano = str(ano)\n",
    "    print(\"Reading {}...\".format(ano))\n",
    "    if ano == '2014' or ano == '2018':\n",
    "        skiprows_use=1\n",
    "    else:\n",
    "        skiprows_use=None\n",
    "\n",
    "    for file in paths[ano]:\n",
    "        if 'txt' in file or 'csv' in file:\n",
    "            data.append(pd.read_csv(b_path + ano + \"/\" + file,\n",
    "                                sep = ';',\n",
    "                                encoding='latin_1',\n",
    "                                header=None,\n",
    "                                skiprows=skiprows_use))        "
   ]
  },
  {
   "cell_type": "code",
   "execution_count": 90,
   "metadata": {},
   "outputs": [],
   "source": [
    "for i in range(len(data)):\n",
    "        if len(data[i].columns) == 10:\n",
    "            data[i].columns = headers\n",
    "        else:\n",
    "            data[i] = data[i].iloc[:,[0,1,2,6,9,10,11,12,13,14]]\n",
    "            data[i].columns = headers\n",
    "    \n",
    "# Bindng all data\n",
    "data = pd.concat(data)\n",
    "\n",
    "# Droping obs\n",
    "data = data[np.in1d(data.DESCRICAO_ELEICAO, ['Eleição Suplementar Governador AM', 'Eleição Suplementar Governador - TO'], invert=True)]\n",
    "\n",
    "# Droping coluns which will not be used\n",
    "data = data.iloc[:,2:len(data.columns)].drop([\"SIGLA_UF\", 'DESCRICAO_ELEICAO'], axis = 1)\n",
    "\n",
    "# Creating by hand president DataFrame\n",
    "vagas_presidente = {'ANO_ELEICAO': np.arange(1998,2018,4),\n",
    "                    'SIGLA_UE': \"BR\",\n",
    "                    'NOME_UE': \"Brasil\",\n",
    "                    'CODIGO_CARGO': 1,\n",
    "                    'DESCRICAO_CARGO': 'Presidente',\n",
    "                    'QTDE_VAGAS': 1}"
   ]
  },
  {
   "cell_type": "code",
   "execution_count": 97,
   "metadata": {},
   "outputs": [
    {
     "data": {
      "text/plain": [
       "True"
      ]
     },
     "execution_count": 97,
     "metadata": {},
     "output_type": "execute_result"
    }
   ],
   "source": [
    "hasattr(data.SIGLA_UE, 'str')"
   ]
  },
  {
   "cell_type": "code",
   "execution_count": 95,
   "metadata": {},
   "outputs": [
    {
     "ename": "SyntaxError",
     "evalue": "invalid syntax (<ipython-input-95-f4fd355bd9ed>, line 1)",
     "output_type": "error",
     "traceback": [
      "\u001b[0;36m  File \u001b[0;32m\"<ipython-input-95-f4fd355bd9ed>\"\u001b[0;36m, line \u001b[0;32m1\u001b[0m\n\u001b[0;31m    data.apply(lambda x: x.str.upper() if hasattr(x, 'str'), axis=1)\u001b[0m\n\u001b[0m                                                           ^\u001b[0m\n\u001b[0;31mSyntaxError\u001b[0m\u001b[0;31m:\u001b[0m invalid syntax\n"
     ]
    }
   ],
   "source": [
    "data.apply(lambda x: x.str.upper()if hasattr(x, 'str'), axis=1)"
   ]
  },
  {
   "cell_type": "code",
   "execution_count": null,
   "metadata": {},
   "outputs": [],
   "source": [
    "presidente_df = pd.DataFrame(vagas_presidente)\n",
    "    \n",
    "# Binding president and data together\n",
    "\n",
    "data = pd.concat([data, presidente_df])\n",
    "\n",
    "print(\"Writing data into molde_vagas.csv\")\n",
    "\n",
    "data.to_csv(\"data/moldes/molde_vagas.csv\")"
   ]
  },
  {
   "cell_type": "code",
   "execution_count": 60,
   "metadata": {},
   "outputs": [
    {
     "name": "stdout",
     "output_type": "stream",
     "text": [
      "Creating molde_vagas.csv ...\n",
      "Reading 1998...\n"
     ]
    },
    {
     "ename": "ParserError",
     "evalue": "Error tokenizing data. C error: Expected 1 fields in line 15, saw 2\n",
     "output_type": "error",
     "traceback": [
      "\u001b[0;31m---------------------------------------------------------------------------\u001b[0m",
      "\u001b[0;31mParserError\u001b[0m                               Traceback (most recent call last)",
      "\u001b[0;32m<ipython-input-60-30372a6c3437>\u001b[0m in \u001b[0;36m<module>\u001b[0;34m\u001b[0m\n\u001b[0;32m----> 1\u001b[0;31m \u001b[0mcreate_molde_vagas\u001b[0m\u001b[0;34m(\u001b[0m\u001b[0;34m)\u001b[0m\u001b[0;34m\u001b[0m\u001b[0m\n\u001b[0m",
      "\u001b[0;32m<ipython-input-58-b66936aa7c57>\u001b[0m in \u001b[0;36mcreate_molde_vagas\u001b[0;34m()\u001b[0m\n\u001b[1;32m     25\u001b[0m                                     \u001b[0mencoding\u001b[0m\u001b[0;34m=\u001b[0m\u001b[0;34m'latin_1'\u001b[0m\u001b[0;34m,\u001b[0m\u001b[0;34m\u001b[0m\u001b[0m\n\u001b[1;32m     26\u001b[0m                                     \u001b[0mheader\u001b[0m\u001b[0;34m=\u001b[0m\u001b[0;32mNone\u001b[0m\u001b[0;34m,\u001b[0m\u001b[0;34m\u001b[0m\u001b[0m\n\u001b[0;32m---> 27\u001b[0;31m                                     skiprows=skiprows_use))\n\u001b[0m\u001b[1;32m     28\u001b[0m \u001b[0;34m\u001b[0m\u001b[0m\n\u001b[1;32m     29\u001b[0m     \u001b[0;31m# Fixing columns lenght and defining columns names\u001b[0m\u001b[0;34m\u001b[0m\u001b[0;34m\u001b[0m\u001b[0m\n",
      "\u001b[0;32m~/anaconda3/lib/python3.7/site-packages/pandas/io/parsers.py\u001b[0m in \u001b[0;36mparser_f\u001b[0;34m(filepath_or_buffer, sep, delimiter, header, names, index_col, usecols, squeeze, prefix, mangle_dupe_cols, dtype, engine, converters, true_values, false_values, skipinitialspace, skiprows, nrows, na_values, keep_default_na, na_filter, verbose, skip_blank_lines, parse_dates, infer_datetime_format, keep_date_col, date_parser, dayfirst, iterator, chunksize, compression, thousands, decimal, lineterminator, quotechar, quoting, escapechar, comment, encoding, dialect, tupleize_cols, error_bad_lines, warn_bad_lines, skipfooter, doublequote, delim_whitespace, low_memory, memory_map, float_precision)\u001b[0m\n\u001b[1;32m    676\u001b[0m                     skip_blank_lines=skip_blank_lines)\n\u001b[1;32m    677\u001b[0m \u001b[0;34m\u001b[0m\u001b[0m\n\u001b[0;32m--> 678\u001b[0;31m         \u001b[0;32mreturn\u001b[0m \u001b[0m_read\u001b[0m\u001b[0;34m(\u001b[0m\u001b[0mfilepath_or_buffer\u001b[0m\u001b[0;34m,\u001b[0m \u001b[0mkwds\u001b[0m\u001b[0;34m)\u001b[0m\u001b[0;34m\u001b[0m\u001b[0m\n\u001b[0m\u001b[1;32m    679\u001b[0m \u001b[0;34m\u001b[0m\u001b[0m\n\u001b[1;32m    680\u001b[0m     \u001b[0mparser_f\u001b[0m\u001b[0;34m.\u001b[0m\u001b[0m__name__\u001b[0m \u001b[0;34m=\u001b[0m \u001b[0mname\u001b[0m\u001b[0;34m\u001b[0m\u001b[0m\n",
      "\u001b[0;32m~/anaconda3/lib/python3.7/site-packages/pandas/io/parsers.py\u001b[0m in \u001b[0;36m_read\u001b[0;34m(filepath_or_buffer, kwds)\u001b[0m\n\u001b[1;32m    444\u001b[0m \u001b[0;34m\u001b[0m\u001b[0m\n\u001b[1;32m    445\u001b[0m     \u001b[0;32mtry\u001b[0m\u001b[0;34m:\u001b[0m\u001b[0;34m\u001b[0m\u001b[0m\n\u001b[0;32m--> 446\u001b[0;31m         \u001b[0mdata\u001b[0m \u001b[0;34m=\u001b[0m \u001b[0mparser\u001b[0m\u001b[0;34m.\u001b[0m\u001b[0mread\u001b[0m\u001b[0;34m(\u001b[0m\u001b[0mnrows\u001b[0m\u001b[0;34m)\u001b[0m\u001b[0;34m\u001b[0m\u001b[0m\n\u001b[0m\u001b[1;32m    447\u001b[0m     \u001b[0;32mfinally\u001b[0m\u001b[0;34m:\u001b[0m\u001b[0;34m\u001b[0m\u001b[0m\n\u001b[1;32m    448\u001b[0m         \u001b[0mparser\u001b[0m\u001b[0;34m.\u001b[0m\u001b[0mclose\u001b[0m\u001b[0;34m(\u001b[0m\u001b[0;34m)\u001b[0m\u001b[0;34m\u001b[0m\u001b[0m\n",
      "\u001b[0;32m~/anaconda3/lib/python3.7/site-packages/pandas/io/parsers.py\u001b[0m in \u001b[0;36mread\u001b[0;34m(self, nrows)\u001b[0m\n\u001b[1;32m   1034\u001b[0m                 \u001b[0;32mraise\u001b[0m \u001b[0mValueError\u001b[0m\u001b[0;34m(\u001b[0m\u001b[0;34m'skipfooter not supported for iteration'\u001b[0m\u001b[0;34m)\u001b[0m\u001b[0;34m\u001b[0m\u001b[0m\n\u001b[1;32m   1035\u001b[0m \u001b[0;34m\u001b[0m\u001b[0m\n\u001b[0;32m-> 1036\u001b[0;31m         \u001b[0mret\u001b[0m \u001b[0;34m=\u001b[0m \u001b[0mself\u001b[0m\u001b[0;34m.\u001b[0m\u001b[0m_engine\u001b[0m\u001b[0;34m.\u001b[0m\u001b[0mread\u001b[0m\u001b[0;34m(\u001b[0m\u001b[0mnrows\u001b[0m\u001b[0;34m)\u001b[0m\u001b[0;34m\u001b[0m\u001b[0m\n\u001b[0m\u001b[1;32m   1037\u001b[0m \u001b[0;34m\u001b[0m\u001b[0m\n\u001b[1;32m   1038\u001b[0m         \u001b[0;31m# May alter columns / col_dict\u001b[0m\u001b[0;34m\u001b[0m\u001b[0;34m\u001b[0m\u001b[0m\n",
      "\u001b[0;32m~/anaconda3/lib/python3.7/site-packages/pandas/io/parsers.py\u001b[0m in \u001b[0;36mread\u001b[0;34m(self, nrows)\u001b[0m\n\u001b[1;32m   1846\u001b[0m     \u001b[0;32mdef\u001b[0m \u001b[0mread\u001b[0m\u001b[0;34m(\u001b[0m\u001b[0mself\u001b[0m\u001b[0;34m,\u001b[0m \u001b[0mnrows\u001b[0m\u001b[0;34m=\u001b[0m\u001b[0;32mNone\u001b[0m\u001b[0;34m)\u001b[0m\u001b[0;34m:\u001b[0m\u001b[0;34m\u001b[0m\u001b[0m\n\u001b[1;32m   1847\u001b[0m         \u001b[0;32mtry\u001b[0m\u001b[0;34m:\u001b[0m\u001b[0;34m\u001b[0m\u001b[0m\n\u001b[0;32m-> 1848\u001b[0;31m             \u001b[0mdata\u001b[0m \u001b[0;34m=\u001b[0m \u001b[0mself\u001b[0m\u001b[0;34m.\u001b[0m\u001b[0m_reader\u001b[0m\u001b[0;34m.\u001b[0m\u001b[0mread\u001b[0m\u001b[0;34m(\u001b[0m\u001b[0mnrows\u001b[0m\u001b[0;34m)\u001b[0m\u001b[0;34m\u001b[0m\u001b[0m\n\u001b[0m\u001b[1;32m   1849\u001b[0m         \u001b[0;32mexcept\u001b[0m \u001b[0mStopIteration\u001b[0m\u001b[0;34m:\u001b[0m\u001b[0;34m\u001b[0m\u001b[0m\n\u001b[1;32m   1850\u001b[0m             \u001b[0;32mif\u001b[0m \u001b[0mself\u001b[0m\u001b[0;34m.\u001b[0m\u001b[0m_first_chunk\u001b[0m\u001b[0;34m:\u001b[0m\u001b[0;34m\u001b[0m\u001b[0m\n",
      "\u001b[0;32mpandas/_libs/parsers.pyx\u001b[0m in \u001b[0;36mpandas._libs.parsers.TextReader.read\u001b[0;34m()\u001b[0m\n",
      "\u001b[0;32mpandas/_libs/parsers.pyx\u001b[0m in \u001b[0;36mpandas._libs.parsers.TextReader._read_low_memory\u001b[0;34m()\u001b[0m\n",
      "\u001b[0;32mpandas/_libs/parsers.pyx\u001b[0m in \u001b[0;36mpandas._libs.parsers.TextReader._read_rows\u001b[0;34m()\u001b[0m\n",
      "\u001b[0;32mpandas/_libs/parsers.pyx\u001b[0m in \u001b[0;36mpandas._libs.parsers.TextReader._tokenize_rows\u001b[0;34m()\u001b[0m\n",
      "\u001b[0;32mpandas/_libs/parsers.pyx\u001b[0m in \u001b[0;36mpandas._libs.parsers.raise_parser_error\u001b[0;34m()\u001b[0m\n",
      "\u001b[0;31mParserError\u001b[0m: Error tokenizing data. C error: Expected 1 fields in line 15, saw 2\n"
     ]
    }
   ],
   "source": [
    "create_molde_vagas()"
   ]
  },
  {
   "cell_type": "code",
   "execution_count": 10,
   "metadata": {},
   "outputs": [],
   "source": [
    "def create_molde_secao():\n",
    "    print(\"Creating molde_vagas.csv:\")\n",
    "\n",
    "    # Readind vagas paths and storing\n",
    "    b_path = \"raw_data/arquivos_secao/unziped/\"\n",
    "    paths = os.listdir(b_path)\n",
    "    arquivos_secao = [k for k in paths if \"csv\" in k or 'txt' in k]\n",
    "\n",
    "    # Defining Headers\n",
    "    headers = [\"DATA_GERACAO\", \"HORA_GERACAO\", \"ANO_ELEICAO\", \"NUM_TURNO\", \"DESCRICAO_ELEICAO\",\n",
    "               \"SIGLA_UF\", \"SIGLA_UE\", \"CODIGO_MUNICIPIO\", \"NOME_MUNICIPIO\",\"NUM_ZONA\",\"NUM_SECAO\",\n",
    "               \"CODIGO_CARGO\", \"DESCRICAO_CARGO\", \"QTD_APTOS\", \"QTD_COMPARECIMENTO\", \"QTD_ABSTENCOES\", \n",
    "               \"QT_VOTOS_NOMINAIS\", \"QT_VOTOS_BRANCOS\", \"QT_VOTOS_NULOS\", \"QT_VOTOS_LEGENDA\",\n",
    "               \"QT_VOTOS_ANULADOS_APU_SEP\"]\n",
    "    \n",
    "    data = []\n",
    "    for ano in np.arange(1998,2018,4):\n",
    "        print(\"Parsing data from \" + str(ano) + \"...\")\n",
    "        data_spec = []\n",
    "        for file_path in arquivos_secao:\n",
    "            if str(ano) in file_path:\n",
    "                data_spec.append(pd.read_csv(b_path + file_path, sep = ';', header=None, encoding=\"latin-1\"))\n",
    "\n",
    "        data_spec = pd.concat(data_spec)\n",
    "        data_spec.columns = headers\n",
    "\n",
    "        data_spec = data_spec.loc[:,['ANO_ELEICAO',\n",
    "                                     'NUM_TURNO',\n",
    "                                     'DESCRICAO_ELEICAO',\n",
    "                                     'SIGLA_UE',\n",
    "                                     'CODIGO_MUNICIPIO',\n",
    "                                     'NOME_MUNICIPIO',\n",
    "                                     'CODIGO_CARGO',\n",
    "                                     'DESCRICAO_CARGO',\n",
    "                                     'QTD_APTOS',\n",
    "                                     'QTD_COMPARECIMENTO']]\n",
    "\n",
    "        data_spec = data_spec.groupby(['ANO_ELEICAO',\n",
    "                                       'NUM_TURNO',\n",
    "                                       'DESCRICAO_ELEICAO',\n",
    "                                       'SIGLA_UE',\n",
    "                                       'CODIGO_MUNICIPIO',\n",
    "                                       'NOME_MUNICIPIO',\n",
    "                                       'CODIGO_CARGO',\n",
    "                                       'DESCRICAO_CARGO',])\n",
    "\n",
    "        data_spec = data_spec.sum().reset_index()\n",
    "\n",
    "        data.append(data_spec)\n",
    "        \n",
    "    data = pd.concat(data)\n",
    "    \n",
    "    for ano in np.arange(2010,1998,-8):\n",
    "        temp = data.loc[(data.ANO_ELEICAO == ano) & (data.CODIGO_CARGO == 5),[\"QTD_APTOS\", \"QTD_COMPARECIMENTO\"]]\n",
    "        temp = temp * 2\n",
    "        data.loc[(data.ANO_ELEICAO == ano) & (data.CODIGO_CARGO == 5),[\"QTD_APTOS\", \"QTD_COMPARECIMENTO\"]] = temp\n",
    "    \n",
    "    temp = data.loc[(data.ANO_ELEICAO == 2002) & (data.CODIGO_CARGO == 1),[\"QTD_APTOS\", \"QTD_COMPARECIMENTO\"]]\n",
    "    \n",
    "    temp = temp / 2\n",
    "    \n",
    "    data.loc[(data.ANO_ELEICAO == 2002) & (data.CODIGO_CARGO == 1),[\"QTD_APTOS\", \"QTD_COMPARECIMENTO\"]] = temp\n",
    "    \n",
    "    data.to_csv(\"data/moldes/molde_secao.csv\")\n",
    "    return data\n",
    "    "
   ]
  },
  {
   "cell_type": "code",
   "execution_count": 11,
   "metadata": {},
   "outputs": [
    {
     "name": "stdout",
     "output_type": "stream",
     "text": [
      "Creating molde_vagas.csv:\n",
      "Parsing data from 1998...\n"
     ]
    },
    {
     "name": "stderr",
     "output_type": "stream",
     "text": [
      "/home/rafael/anaconda3/lib/python3.6/site-packages/IPython/core/interactiveshell.py:3185: DtypeWarning: Columns (2,3,7,9,10,11,13,14,15,16,17,18,19,20) have mixed types. Specify dtype option on import or set low_memory=False.\n",
      "  if (yield from self.run_code(code, result)):\n"
     ]
    },
    {
     "name": "stdout",
     "output_type": "stream",
     "text": [
      "Parsing data from 2002...\n",
      "Parsing data from 2006...\n",
      "Parsing data from 2010...\n",
      "Parsing data from 2014...\n"
     ]
    }
   ],
   "source": [
    "data = create_molde_secao()"
   ]
  },
  {
   "cell_type": "code",
   "execution_count": 12,
   "metadata": {},
   "outputs": [
    {
     "data": {
      "text/html": [
       "<div>\n",
       "<style scoped>\n",
       "    .dataframe tbody tr th:only-of-type {\n",
       "        vertical-align: middle;\n",
       "    }\n",
       "\n",
       "    .dataframe tbody tr th {\n",
       "        vertical-align: top;\n",
       "    }\n",
       "\n",
       "    .dataframe thead th {\n",
       "        text-align: right;\n",
       "    }\n",
       "</style>\n",
       "<table border=\"1\" class=\"dataframe\">\n",
       "  <thead>\n",
       "    <tr style=\"text-align: right;\">\n",
       "      <th></th>\n",
       "      <th>ANO_ELEICAO</th>\n",
       "      <th>NUM_TURNO</th>\n",
       "      <th>DESCRICAO_ELEICAO</th>\n",
       "      <th>SIGLA_UE</th>\n",
       "      <th>CODIGO_MUNICIPIO</th>\n",
       "      <th>NOME_MUNICIPIO</th>\n",
       "      <th>CODIGO_CARGO</th>\n",
       "      <th>DESCRICAO_CARGO</th>\n",
       "      <th>QTD_APTOS</th>\n",
       "      <th>QTD_COMPARECIMENTO</th>\n",
       "    </tr>\n",
       "  </thead>\n",
       "  <tbody>\n",
       "    <tr>\n",
       "      <th>0</th>\n",
       "      <td>2002</td>\n",
       "      <td>1</td>\n",
       "      <td>ELEICOES 2002</td>\n",
       "      <td>19</td>\n",
       "      <td>19</td>\n",
       "      <td>GUAJARA MIRIM</td>\n",
       "      <td>1</td>\n",
       "      <td>PRESIDENTE</td>\n",
       "      <td>22458</td>\n",
       "      <td>17436</td>\n",
       "    </tr>\n",
       "    <tr>\n",
       "      <th>1</th>\n",
       "      <td>2002</td>\n",
       "      <td>1</td>\n",
       "      <td>ELEICOES 2002</td>\n",
       "      <td>19</td>\n",
       "      <td>19</td>\n",
       "      <td>GUAJARA MIRIM</td>\n",
       "      <td>3</td>\n",
       "      <td>GOVERNADOR</td>\n",
       "      <td>22458</td>\n",
       "      <td>17436</td>\n",
       "    </tr>\n",
       "    <tr>\n",
       "      <th>2</th>\n",
       "      <td>2002</td>\n",
       "      <td>1</td>\n",
       "      <td>ELEICOES 2002</td>\n",
       "      <td>19</td>\n",
       "      <td>19</td>\n",
       "      <td>GUAJARA MIRIM</td>\n",
       "      <td>5</td>\n",
       "      <td>SENADOR</td>\n",
       "      <td>44916</td>\n",
       "      <td>34872</td>\n",
       "    </tr>\n",
       "    <tr>\n",
       "      <th>3</th>\n",
       "      <td>2002</td>\n",
       "      <td>1</td>\n",
       "      <td>ELEICOES 2002</td>\n",
       "      <td>19</td>\n",
       "      <td>19</td>\n",
       "      <td>GUAJARA MIRIM</td>\n",
       "      <td>6</td>\n",
       "      <td>DEPUTADO FEDERAL</td>\n",
       "      <td>22458</td>\n",
       "      <td>17436</td>\n",
       "    </tr>\n",
       "    <tr>\n",
       "      <th>4</th>\n",
       "      <td>2002</td>\n",
       "      <td>1</td>\n",
       "      <td>ELEICOES 2002</td>\n",
       "      <td>19</td>\n",
       "      <td>19</td>\n",
       "      <td>GUAJARA MIRIM</td>\n",
       "      <td>7</td>\n",
       "      <td>DEPUTADO ESTADUAL</td>\n",
       "      <td>22458</td>\n",
       "      <td>17436</td>\n",
       "    </tr>\n",
       "  </tbody>\n",
       "</table>\n",
       "</div>"
      ],
      "text/plain": [
       "  ANO_ELEICAO NUM_TURNO DESCRICAO_ELEICAO SIGLA_UE CODIGO_MUNICIPIO  \\\n",
       "0        2002         1     ELEICOES 2002       19               19   \n",
       "1        2002         1     ELEICOES 2002       19               19   \n",
       "2        2002         1     ELEICOES 2002       19               19   \n",
       "3        2002         1     ELEICOES 2002       19               19   \n",
       "4        2002         1     ELEICOES 2002       19               19   \n",
       "\n",
       "  NOME_MUNICIPIO CODIGO_CARGO    DESCRICAO_CARGO QTD_APTOS QTD_COMPARECIMENTO  \n",
       "0  GUAJARA MIRIM            1         PRESIDENTE     22458              17436  \n",
       "1  GUAJARA MIRIM            3         GOVERNADOR     22458              17436  \n",
       "2  GUAJARA MIRIM            5            SENADOR     44916              34872  \n",
       "3  GUAJARA MIRIM            6   DEPUTADO FEDERAL     22458              17436  \n",
       "4  GUAJARA MIRIM            7  DEPUTADO ESTADUAL     22458              17436  "
      ]
     },
     "execution_count": 12,
     "metadata": {},
     "output_type": "execute_result"
    }
   ],
   "source": [
    "data[data.ANO_ELEICAO == 2002].head()"
   ]
  },
  {
   "cell_type": "code",
   "execution_count": null,
   "metadata": {},
   "outputs": [],
   "source": []
  }
 ],
 "metadata": {
  "kernelspec": {
   "display_name": "Python 3",
   "language": "python",
   "name": "python3"
  },
  "language_info": {
   "codemirror_mode": {
    "name": "ipython",
    "version": 3
   },
   "file_extension": ".py",
   "mimetype": "text/x-python",
   "name": "python",
   "nbconvert_exporter": "python",
   "pygments_lexer": "ipython3",
   "version": "3.7.0"
  }
 },
 "nbformat": 4,
 "nbformat_minor": 2
}
