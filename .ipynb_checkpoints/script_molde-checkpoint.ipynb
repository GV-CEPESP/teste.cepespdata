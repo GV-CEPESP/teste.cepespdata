{
 "cells": [
  {
   "cell_type": "markdown",
   "metadata": {},
   "source": [
    "# Script Molde\n",
    "\n",
    "Cria os moldes a partir dos quais as requisições do CEPESPData serão comparadas"
   ]
  },
  {
   "cell_type": "code",
   "execution_count": 1,
   "metadata": {},
   "outputs": [],
   "source": [
    "import numpy as np\n",
    "import pandas as pd\n",
    "import os\n",
    "import csv\n",
    "\n",
    "if not os.path.exists(\"data/moldes\"):\n",
    "    os.makedirs(\"data/moldes\")"
   ]
  },
  {
   "cell_type": "markdown",
   "metadata": {},
   "source": [
    "## Molde Vagas"
   ]
  },
  {
   "cell_type": "code",
   "execution_count": 2,
   "metadata": {},
   "outputs": [],
   "source": [
    "# Readind vagas paths and storing\n",
    "b_path = \"raw_data/arquivos_vagas/unziped/\"\n",
    "paths = {str(ano): (lambda ano: os.listdir(b_path + str(ano)))(ano) for ano in range(1998,2022,4)}\n",
    "\n",
    "# Defining Headers\n",
    "headers = [\"DATA_GERACAO\", \"HORA_GERACAO\", \"ANO_ELEICAO\",\"DESCRICAO_ELEICAO\", \"SIGLA_UF\",\n",
    "           \"SIGLA_UE\", \"NOME_UE\", \"CODIGO_CARGO\", \"DESCRICAO_CARGO\", \"QTDE_VAGAS\"]"
   ]
  },
  {
   "cell_type": "code",
   "execution_count": 3,
   "metadata": {},
   "outputs": [
    {
     "name": "stdout",
     "output_type": "stream",
     "text": [
      "Reading 1998...\n",
      "Reading 2002...\n",
      "Reading 2006...\n",
      "Reading 2010...\n",
      "Reading 2014...\n",
      "Reading 2018...\n"
     ]
    }
   ],
   "source": [
    "data = []\n",
    "for ano in range(1998,2022,4):\n",
    "    ano = str(ano)\n",
    "    print(\"Reading {}...\".format(ano))\n",
    "    if ano == '2014' or ano == '2018':\n",
    "        skiprows_use=1\n",
    "    else:\n",
    "        skiprows_use=None\n",
    "\n",
    "    for file in paths[ano]:\n",
    "        if 'txt' in file or 'csv' in file:\n",
    "            data.append(pd.read_csv(b_path + ano + \"/\" + file,\n",
    "                                sep = ';',\n",
    "                                encoding='latin_1',\n",
    "                                header=None,\n",
    "                                skiprows=skiprows_use))        "
   ]
  },
  {
   "cell_type": "code",
   "execution_count": 4,
   "metadata": {},
   "outputs": [],
   "source": [
    "for i in range(len(data)):\n",
    "        if len(data[i].columns) == 10:\n",
    "            data[i].columns = headers\n",
    "        else:\n",
    "            data[i] = data[i].iloc[:,[0,1,2,6,9,10,11,12,13,14]]\n",
    "            data[i].columns = headers\n",
    "    \n",
    "# Bindng all data\n",
    "data = pd.concat(data)\n",
    "\n",
    "# Droping obs\n",
    "data = data[np.in1d(data.DESCRICAO_ELEICAO, ['Eleição Suplementar Governador AM', 'Eleição Suplementar Governador - TO'], invert=True)]\n",
    "\n",
    "# Droping coluns which will not be used\n",
    "data = data.iloc[:,2:len(data.columns)].drop([\"SIGLA_UF\", 'DESCRICAO_ELEICAO'], axis = 1)\n",
    "\n",
    "# Creating by hand president DataFrame\n",
    "vagas_presidente = {'ANO_ELEICAO': np.arange(1998,2018,4),\n",
    "                    'SIGLA_UE': \"BR\",\n",
    "                    'CODIGO_CARGO': 1,\n",
    "                    'QTDE_VAGAS': 1}"
   ]
  },
  {
   "cell_type": "code",
   "execution_count": 5,
   "metadata": {},
   "outputs": [],
   "source": [
    "data = data.apply(lambda x: x.str.upper() if hasattr(x, 'str') else x, axis=0)"
   ]
  },
  {
   "cell_type": "code",
   "execution_count": 6,
   "metadata": {},
   "outputs": [],
   "source": [
    "data = data[['ANO_ELEICAO', 'SIGLA_UE', 'CODIGO_CARGO', \"QTDE_VAGAS\"]]"
   ]
  },
  {
   "cell_type": "code",
   "execution_count": 7,
   "metadata": {},
   "outputs": [
    {
     "name": "stdout",
     "output_type": "stream",
     "text": [
      "Writing data into molde_vagas.csv\n"
     ]
    }
   ],
   "source": [
    "presidente_df = pd.DataFrame(vagas_presidente)\n",
    "    \n",
    "# Binding president and data together\n",
    "\n",
    "data = pd.concat([data, presidente_df])\n",
    "\n",
    "data = data.drop_duplicates()\n",
    "\n",
    "print(\"Writing data into molde_vagas.csv\")\n",
    "\n",
    "data.to_csv(\"data/moldes/molde_vagas.csv\")"
   ]
  },
  {
   "cell_type": "markdown",
   "metadata": {},
   "source": [
    "## Molde Seção"
   ]
  },
  {
   "cell_type": "code",
   "execution_count": 20,
   "metadata": {},
   "outputs": [],
   "source": [
    "# Readind vagas paths and storing\n",
    "b_path = \"raw_data/arquivos_secao/unziped/\"\n",
    "paths = {str(ano): (lambda ano: os.listdir(b_path + str(ano)))(ano) for ano in range(1998,2022,4)}\n",
    "\n",
    "\n",
    "# Defining Headers\n",
    "headers = [\"DATA_GERACAO\", \"HORA_GERACAO\", \"ANO_ELEICAO\", \"NUM_TURNO\", \"DESCRICAO_ELEICAO\",\n",
    "           \"SIGLA_UF\", \"SIGLA_UE\", \"CODIGO_MUNICIPIO\", \"NOME_MUNICIPIO\",\"NUM_ZONA\",\"NUM_SECAO\",\n",
    "           \"CODIGO_CARGO\", \"DESCRICAO_CARGO\", \"QTD_APTOS\", \"QTD_COMPARECIMENTO\", \"QTD_ABSTENCOES\", \n",
    "           \"QT_VOTOS_NOMINAIS\", \"QT_VOTOS_BRANCOS\", \"QT_VOTOS_NULOS\", \"QT_VOTOS_LEGENDA\",\n",
    "           \"QT_VOTOS_ANULADOS_APU_SEP\"]\n",
    "\n",
    "headers_2018 = ['DATA_GERACAO', 'HORA_GERACAO', 'ANO_ELEICAO', 'CD_TIPO_ELEICAO',\n",
    "                'NM_TIPO_ELEICAO', 'NUM_TURNO', 'CD_ELEICAO', 'DESCRICAO_ELEICAO', 'DT_ELEICAO',\n",
    "                'TP_ABRANGENCIA', 'SIGLA_UF', 'SIGLA_UE', 'NM_UE', 'CODIGO_MUNICIPIO',\n",
    "                'NM_MUNICIPIO', 'NR_ZONA', 'NR_SECAO', 'CODIGO_CARGO', 'DS_CARGO',\n",
    "                'QTD_APTOS', 'QTD_COMPARECIMENTO', 'QTD_ABSTENCOES', 'QT_VOTOS_NOMINAIS',\n",
    "                'QT_VOTOS_BRANCOS', 'QT_VOTOS_NULOS', 'QT_VOTOS_LEGENDA',\n",
    "                'QT_VOTOS_PENDENTES']\n"
   ]
  },
  {
   "cell_type": "code",
   "execution_count": 21,
   "metadata": {},
   "outputs": [],
   "source": [
    "a = pd.read_csv(\"raw_data/arquivos_secao/unziped/2018/detalhe_votacao_secao_2018_TO.csv\", sep = ';', encoding='latin-1')"
   ]
  },
  {
   "cell_type": "code",
   "execution_count": 22,
   "metadata": {},
   "outputs": [
    {
     "name": "stdout",
     "output_type": "stream",
     "text": [
      "Parsing data from 2006...\n",
      "Parsing data from 2010...\n",
      "Parsing data from 2014...\n",
      "Parsing data from 2018...\n"
     ]
    }
   ],
   "source": [
    "data = []\n",
    "for ano in range(2006,2022,4):\n",
    "    ano = str(ano)\n",
    "    print(\"Parsing data from {}...\".format(ano))\n",
    "    data_spec = []\n",
    "    if ano == '2018':\n",
    "        header_use = headers_2018\n",
    "        skiprows_use = 1\n",
    "    else:\n",
    "        header_use = headers\n",
    "        skiprows_use = None\n",
    "        \n",
    "    for file in paths[ano]:\n",
    "        if 'txt' in file or 'csv' in file:\n",
    "            banco_temp = pd.read_csv(b_path + ano + '/' + file,\n",
    "                                     sep = ';',\n",
    "                                     header=None,\n",
    "                                     names = header_use,\n",
    "                                     skiprows = skiprows_use,\n",
    "                                     encoding=\"latin-1\")\n",
    "            \n",
    "            banco_temp = banco_temp[['ANO_ELEICAO',\n",
    "                                     'NUM_TURNO',\n",
    "                                     'SIGLA_UE',\n",
    "                                     'CODIGO_MUNICIPIO',\n",
    "                                     'CODIGO_CARGO',\n",
    "                                     'QTD_APTOS',\n",
    "                                     'QTD_COMPARECIMENTO']]\n",
    "            data_spec.append(banco_temp)\n",
    "\n",
    "    data_spec = pd.concat(data_spec)\n",
    "\n",
    "    data_spec = data_spec.groupby(['ANO_ELEICAO',\n",
    "                                   'NUM_TURNO',\n",
    "                                   'SIGLA_UE',\n",
    "                                   'CODIGO_MUNICIPIO',\n",
    "                                   'CODIGO_CARGO',])\n",
    "\n",
    "    data_spec = data_spec.sum().reset_index()\n",
    "\n",
    "    data.append(data_spec)\n",
    "\n",
    "data = pd.concat(data)"
   ]
  },
  {
   "cell_type": "code",
   "execution_count": 23,
   "metadata": {},
   "outputs": [],
   "source": [
    "for ano in np.arange(2010,1998,-8):\n",
    "    temp = data.loc[(data.ANO_ELEICAO == ano) & (data.CODIGO_CARGO == 5),[\"QTD_APTOS\", \"QTD_COMPARECIMENTO\"]]\n",
    "    temp = temp * 2\n",
    "    data.loc[(data.ANO_ELEICAO == ano) & (data.CODIGO_CARGO == 5),[\"QTD_APTOS\", \"QTD_COMPARECIMENTO\"]] = temp\n",
    "\n",
    "temp = data.loc[(data.ANO_ELEICAO == 2002) & (data.CODIGO_CARGO == 1),[\"QTD_APTOS\", \"QTD_COMPARECIMENTO\"]]\n",
    "\n",
    "temp = temp / 2\n",
    "\n",
    "data.loc[(data.ANO_ELEICAO == 2002) & (data.CODIGO_CARGO == 1),[\"QTD_APTOS\", \"QTD_COMPARECIMENTO\"]] = temp\n",
    "\n",
    "data.to_csv(\"data/moldes/molde_secao.csv\")    "
   ]
  },
  {
   "cell_type": "code",
   "execution_count": 25,
   "metadata": {},
   "outputs": [
    {
     "data": {
      "text/plain": [
       "ELEICOES 2006                     36005\n",
       "ELEIÇÕES GERAIS 2014              35482\n",
       "ELEIÇÕES 2010                     34731\n",
       "ELEIÇÕES GERAIS ESTADUAIS 2018    25273\n",
       "ELEIÇÃO GERAL FEDERAL 2018        11416\n",
       "Name: DESCRICAO_ELEICAO, dtype: int64"
      ]
     },
     "execution_count": 25,
     "metadata": {},
     "output_type": "execute_result"
    }
   ],
   "source": [
    "data.DESCRICAO_ELEICAO.value_counts()"
   ]
  }
 ],
 "metadata": {
  "kernelspec": {
   "display_name": "Python 3",
   "language": "python",
   "name": "python3"
  },
  "language_info": {
   "codemirror_mode": {
    "name": "ipython",
    "version": 3
   },
   "file_extension": ".py",
   "mimetype": "text/x-python",
   "name": "python",
   "nbconvert_exporter": "python",
   "pygments_lexer": "ipython3",
   "version": "3.7.0"
  }
 },
 "nbformat": 4,
 "nbformat_minor": 2
}
