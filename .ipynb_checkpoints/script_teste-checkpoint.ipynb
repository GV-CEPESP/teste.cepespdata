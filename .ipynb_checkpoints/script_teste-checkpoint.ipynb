{
 "cells": [
  {
   "cell_type": "code",
   "execution_count": 1,
   "metadata": {},
   "outputs": [],
   "source": [
    "import pandas as pd\n",
    "import numpy as np\n",
    "import requests\n",
    "import os"
   ]
  },
  {
   "cell_type": "markdown",
   "metadata": {},
   "source": [
    "## Requisições de Dados"
   ]
  },
  {
   "cell_type": "code",
   "execution_count": 2,
   "metadata": {},
   "outputs": [],
   "source": [
    "def get_candidatos(cargo, anos):\n",
    "    cargo = str(cargo)\n",
    "    anos = str(anos)\n",
    "    u0 = \"http://test.cepesp.io/api/consulta/candidatos?format=csv&cargo=\"+cargo+\"&anos[]=\"+anos\n",
    "    eleicoes_df = pd.read_csv(u0, sep = ',')\n",
    "    return eleicoes_df\n",
    "\n",
    "def get_elections(anos = 2014, cargo = 1, agregacao_regional = 6, agregacao_politica = 2):\n",
    "    cargo = str(cargo)\n",
    "    anos = str(anos)\n",
    "    agregacao_regional = str(agregacao_regional)\n",
    "    agregacao_politica = str(agregacao_politica)\n",
    "    u0 = \"http://test.cepesp.io/api/consulta/tse?format=csv&cargo=\"+cargo+\"&anos[]=\"+anos+\"&agregacao_regional=\"+agregacao_regional+\"&agregacao_politica=\"+agregacao_politica+\"&brancos=1&nulos=1\"\n",
    "    eleicoes_df = pd.read_csv(u0, sep = \",\", dtype = {'num_titulo_eleitoral_candidato': str,\n",
    "                                                      'cpf_candidato': str})\n",
    "    return eleicoes_df"
   ]
  },
  {
   "cell_type": "markdown",
   "metadata": {},
   "source": [
    "## Função Teste"
   ]
  },
  {
   "cell_type": "code",
   "execution_count": 3,
   "metadata": {},
   "outputs": [],
   "source": [
    "def teste_cepespdata(ano, cargo):\n",
    "    ano = str(ano)\n",
    "    cargo = str(cargo)\n",
    "    \n",
    "    print(\"Starting test...\\nyear: \" + ano + \"\\nposition: \" + cargo)\n",
    "    log = {'ano': ano, 'cargo': cargo}\n",
    "    \n",
    "    log['banco_candidatos'] = teste_elections(ano, cargo)\n",
    "   \n",
    "    return log"
   ]
  },
  {
   "cell_type": "code",
   "execution_count": 4,
   "metadata": {},
   "outputs": [],
   "source": [
    "def teste_candidatos(ano, cargo):\n",
    "    banco = get_candidatos(ano, cargo)   \n",
    "    return log"
   ]
  },
  {
   "cell_type": "code",
   "execution_count": 5,
   "metadata": {},
   "outputs": [],
   "source": [
    "def teste_elections(ano,cargo):\n",
    "    log = {}\n",
    "    banco = get_elections(ano,cargo)\n",
    "    log['brancos_nulos'] = teste_votos_brancos_nulos(banco)\n",
    "    log['n_cidades'] = teste_cidades(banco)\n",
    "    log['cpf_titulo'] = teste_cpf_titulos(banco)\n",
    "    log['votos_legenda'] = teste_voto_legenda(banco)\n",
    "        \n",
    "    return log"
   ]
  },
  {
   "cell_type": "markdown",
   "metadata": {},
   "source": [
    "## Votos Brancos e Nulos"
   ]
  },
  {
   "cell_type": "code",
   "execution_count": 6,
   "metadata": {},
   "outputs": [],
   "source": [
    "def teste_votos_brancos_nulos(banco):\n",
    "    brancos = sum(banco.numero_candidato == 95) > 0\n",
    "    nulos = sum(banco.numero_candidato == 96) > 0\n",
    "    return {'brancos':brancos, 'nulos':nulos}"
   ]
  },
  {
   "cell_type": "markdown",
   "metadata": {},
   "source": [
    "## Votos Legenda"
   ]
  },
  {
   "cell_type": "code",
   "execution_count": 7,
   "metadata": {},
   "outputs": [],
   "source": [
    "def teste_voto_legenda(banco):\n",
    "    numero_partidos = [15, 14, 12, 13, 25, 65, 40, 45, 36,\n",
    "                       20, 33, 44, 23, 43, 70, 11, 16, 16,\n",
    "                       21, 28, 31, 27, 29, 19, 17, 10, 50,\n",
    "                       22, 55, 54, 51, 90, 77, 30, 18, 35]\n",
    "    \n",
    "    x = [k for k in banco.numero_candidato if len(str(k)) == 2]\n",
    "    prop_votos_legenda = sum(np.in1d(x, numero_partidos)) / len(banco.numero_candidato)\n",
    "    \n",
    "    return {'votos_legenda': prop_votos_legenda}"
   ]
  },
  {
   "cell_type": "markdown",
   "metadata": {},
   "source": [
    "## Número de Cidades"
   ]
  },
  {
   "cell_type": "code",
   "execution_count": 8,
   "metadata": {},
   "outputs": [],
   "source": [
    "def teste_cidades(banco):\n",
    "    n_unique_ibge = len(set(banco.cod_mun_ibge))\n",
    "    n_unique_tse = len(set(banco.cod_mun_tse))\n",
    "    \n",
    "    return {'ibge': n_unique_ibge, 'tse': n_unique_tse}"
   ]
  },
  {
   "cell_type": "markdown",
   "metadata": {},
   "source": [
    "## Padrões CPF e Títulos"
   ]
  },
  {
   "cell_type": "code",
   "execution_count": 17,
   "metadata": {},
   "outputs": [],
   "source": [
    "def teste_cpf_titulos(banco):\n",
    "    len_titulo = [(lambda x: len(str(x)))(x) for x in banco.num_titulo_eleitoral_candidato]\n",
    "    len_cpf = [(lambda x: len(str(x)))(x) for x in banco.cpf_candidato]\n",
    "    prop_titulo = sum(np.array(len_titulo) == 12) / len(len_titulo)\n",
    "    prop_cpf    = sum(np.array(len_cpf) == 11) / len(len_cpf)\n",
    "    return {'prop_titulo': prop_titulo, 'prop_cpf': prop_cpf}"
   ]
  },
  {
   "cell_type": "markdown",
   "metadata": {},
   "source": [
    "## Eleitos e Vagas"
   ]
  },
  {
   "cell_type": "markdown",
   "metadata": {},
   "source": [
    "## Votos, Aptos e Comparecimentos"
   ]
  },
  {
   "cell_type": "code",
   "execution_count": 10,
   "metadata": {},
   "outputs": [],
   "source": [
    "def teste_votos_comparecimentos(banco):\n",
    "    molde_secao = pd.read_csv(\"data/moldes/molde_secao.csv\")"
   ]
  },
  {
   "cell_type": "code",
   "execution_count": null,
   "metadata": {},
   "outputs": [],
   "source": [
    "molde_secao = pd.read_csv(\"data/moldes/molde_secao.csv\")\n",
    "banco = get_elections(2014,1,6)"
   ]
  },
  {
   "cell_type": "code",
   "execution_count": null,
   "metadata": {},
   "outputs": [],
   "source": [
    "molde_secao"
   ]
  },
  {
   "cell_type": "markdown",
   "metadata": {},
   "source": [
    "## TESTE"
   ]
  },
  {
   "cell_type": "code",
   "execution_count": 33,
   "metadata": {},
   "outputs": [
    {
     "name": "stdout",
     "output_type": "stream",
     "text": [
      "Starting test...\n",
      "year: 1998\n",
      "position: 1\n",
      "Starting test...\n",
      "year: 2002\n",
      "position: 1\n",
      "Starting test...\n",
      "year: 2006\n",
      "position: 1\n",
      "Starting test...\n",
      "year: 2010\n",
      "position: 1\n",
      "Starting test...\n",
      "year: 2014\n",
      "position: 1\n"
     ]
    }
   ],
   "source": [
    "log\n",
    "log = {'resultado':[]}\n",
    "for ano in np.arange(1998,2018,4):\n",
    "    log['resultado'].append(teste_cepespdata(ano, 1))"
   ]
  },
  {
   "cell_type": "code",
   "execution_count": 71,
   "metadata": {},
   "outputs": [],
   "source": [
    "texto = '''\n",
    "ANO: {}, CARGO: {}\n",
    "\n",
    "Branco: {}\n",
    "Nulos: {}\n",
    "'''\n",
    "\n",
    "def print_log(log):\n",
    "    for resultado in log['resultado']:\n",
    "        banco_candidados = resultado['banco_candidatos']\n",
    "        print(texto.format(resultado['ano'],\n",
    "                           resultado['cargo'],\n",
    "                           banco_candidados['brancos_nulos']['brancos'],\n",
    "                           banco_candidados['brancos_nulos']['nulos']))"
   ]
  },
  {
   "cell_type": "code",
   "execution_count": 72,
   "metadata": {},
   "outputs": [
    {
     "name": "stdout",
     "output_type": "stream",
     "text": [
      "\n",
      "ANO: 1998, CARGO: 1\n",
      "\n",
      "Branco: True\n",
      "Nulos: True\n",
      "\n",
      "\n",
      "ANO: 2002, CARGO: 1\n",
      "\n",
      "Branco: True\n",
      "Nulos: True\n",
      "\n",
      "\n",
      "ANO: 2006, CARGO: 1\n",
      "\n",
      "Branco: True\n",
      "Nulos: True\n",
      "\n",
      "\n",
      "ANO: 2010, CARGO: 1\n",
      "\n",
      "Branco: True\n",
      "Nulos: True\n",
      "\n",
      "\n",
      "ANO: 2014, CARGO: 1\n",
      "\n",
      "Branco: True\n",
      "Nulos: True\n",
      "\n"
     ]
    }
   ],
   "source": [
    "print_log(log)"
   ]
  },
  {
   "cell_type": "code",
   "execution_count": 73,
   "metadata": {},
   "outputs": [
    {
     "data": {
      "text/plain": [
       "{'resultado': [{'ano': '1998',\n",
       "   'cargo': '1',\n",
       "   'banco_candidatos': {'brancos_nulos': {'brancos': True, 'nulos': True},\n",
       "    'n_cidades': {'ibge': 5513, 'tse': 5513},\n",
       "    'cpf_titulo': {'prop_titulo': 0.8564285528268966,\n",
       "     'prop_cpf': 0.8564285528268966},\n",
       "    'votos_legenda': {'votos_legenda': 0.7846428292403448}}},\n",
       "  {'ano': '2002',\n",
       "   'cargo': '1',\n",
       "   'banco_candidatos': {'brancos_nulos': {'brancos': True, 'nulos': True},\n",
       "    'n_cidades': {'ibge': 5563, 'tse': 5563},\n",
       "    'cpf_titulo': {'prop_titulo': 0.6585616543429571,\n",
       "     'prop_cpf': 0.6585616543429571},\n",
       "    'votos_legenda': {'votos_legenda': 0.6585616543429571}}},\n",
       "  {'ano': '2006',\n",
       "   'cargo': '1',\n",
       "   'banco_candidatos': {'brancos_nulos': {'brancos': True, 'nulos': True},\n",
       "    'n_cidades': {'ibge': 5565, 'tse': 5565},\n",
       "    'cpf_titulo': {'prop_titulo': 0.6953689511714474,\n",
       "     'prop_cpf': 0.6953689511714474},\n",
       "    'votos_legenda': {'votos_legenda': 0.6953689511714474}}},\n",
       "  {'ano': '2010',\n",
       "   'cargo': '1',\n",
       "   'banco_candidatos': {'brancos_nulos': {'brancos': True, 'nulos': True},\n",
       "    'n_cidades': {'ibge': 5688, 'tse': 5688},\n",
       "    'cpf_titulo': {'prop_titulo': 0.7104542896608175,\n",
       "     'prop_cpf': 0.7104542896608175},\n",
       "    'votos_legenda': {'votos_legenda': 0.7104542896608175}}},\n",
       "  {'ano': '2014',\n",
       "   'cargo': '1',\n",
       "   'banco_candidatos': {'brancos_nulos': {'brancos': True, 'nulos': True},\n",
       "    'n_cidades': {'ibge': 5701, 'tse': 5701},\n",
       "    'cpf_titulo': {'prop_titulo': 0.7442966100740174,\n",
       "     'prop_cpf': 0.7442966100740174},\n",
       "    'votos_legenda': {'votos_legenda': 0.7442966100740174}}}]}"
      ]
     },
     "execution_count": 73,
     "metadata": {},
     "output_type": "execute_result"
    }
   ],
   "source": [
    "log"
   ]
  },
  {
   "cell_type": "code",
   "execution_count": 65,
   "metadata": {},
   "outputs": [
    {
     "data": {
      "text/plain": [
       "{'brancos_nulos': {'brancos': True, 'nulos': True},\n",
       " 'n_cidades': {'ibge': 5513, 'tse': 5513},\n",
       " 'cpf_titulo': {'prop_titulo': 0.8564285528268966,\n",
       "  'prop_cpf': 0.8564285528268966},\n",
       " 'votos_legenda': {'votos_legenda': 0.7846428292403448}}"
      ]
     },
     "execution_count": 65,
     "metadata": {},
     "output_type": "execute_result"
    }
   ],
   "source": []
  },
  {
   "cell_type": "code",
   "execution_count": null,
   "metadata": {},
   "outputs": [],
   "source": []
  }
 ],
 "metadata": {
  "kernelspec": {
   "display_name": "Python 3",
   "language": "python",
   "name": "python3"
  },
  "language_info": {
   "codemirror_mode": {
    "name": "ipython",
    "version": 3
   },
   "file_extension": ".py",
   "mimetype": "text/x-python",
   "name": "python",
   "nbconvert_exporter": "python",
   "pygments_lexer": "ipython3",
   "version": "3.6.6"
  }
 },
 "nbformat": 4,
 "nbformat_minor": 2
}
