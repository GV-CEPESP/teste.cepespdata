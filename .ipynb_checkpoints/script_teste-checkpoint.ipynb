{
 "cells": [
  {
   "cell_type": "markdown",
   "metadata": {},
   "source": [
    "# Script Teste"
   ]
  },
  {
   "cell_type": "markdown",
   "metadata": {},
   "source": [
    "_Script_ que define a classe `teste_cepespdata`"
   ]
  },
  {
   "cell_type": "code",
   "execution_count": 1,
   "metadata": {},
   "outputs": [],
   "source": [
    "import pandas as pd\n",
    "import numpy as np\n",
    "import requests\n",
    "import os"
   ]
  },
  {
   "cell_type": "code",
   "execution_count": 6,
   "metadata": {},
   "outputs": [
    {
     "data": {
      "text/plain": [
       "False"
      ]
     },
     "execution_count": 6,
     "metadata": {},
     "output_type": "execute_result"
    }
   ],
   "source": [
    "90 in range(10,91)"
   ]
  },
  {
   "cell_type": "markdown",
   "metadata": {},
   "source": [
    "## Função de Testes Específicos"
   ]
  },
  {
   "cell_type": "code",
   "execution_count": 2,
   "metadata": {},
   "outputs": [],
   "source": [
    "## Votos Brancos\n",
    "def teste_votos_brancos_nulos(banco):\n",
    "        brancos = sum(banco.numero_candidato == 95) > 0\n",
    "        nulos = sum(banco.numero_candidato == 96) > 0\n",
    "        return {'brancos':brancos, 'nulos':nulos}\n",
    "\n",
    "## Votos Legenda\n",
    "# Proporção de votos legenda\n",
    "def teste_voto_legenda(banco):\n",
    "    numero_partidos = range(10,91) # partidos entre 10 e 90 inclusivo\n",
    "\n",
    "    x = [k for k in banco.numero_candidato if len(str(k)) == 2]\n",
    "    prop_votos_legenda = sum(np.in1d(x, numero_partidos)) / len(banco.numero_candidato)\n",
    "\n",
    "    return {'votos_legenda': prop_votos_legenda}\n",
    "\n",
    "## N de Cidades\n",
    "def teste_cidades(banco):\n",
    "    n_unique_ibge = len(set(banco.cod_mun_ibge))\n",
    "    n_unique_tse = len(set(banco.cod_mun_tse))\n",
    "\n",
    "    return {'ibge': n_unique_ibge, 'tse': n_unique_tse}\n",
    "\n",
    "## CPF e Títulos\n",
    "# Proporção de CPF e Títulos com número correto\n",
    "def teste_cpf_titulos(banco):\n",
    "    len_titulo = [(lambda x: len(str(x)))(x) for x in banco.num_titulo_eleitoral_candidato]\n",
    "    len_cpf = [(lambda x: len(str(x)))(x) for x in banco.cpf_candidato]\n",
    "    prop_titulo = sum(np.array(len_titulo) == 12) / len(len_titulo)\n",
    "    prop_cpf    = sum(np.array(len_cpf) == 11) / len(len_cpf)\n",
    "    return {'prop_titulo': prop_titulo, 'prop_cpf': prop_cpf}"
   ]
  },
  {
   "cell_type": "code",
   "execution_count": 3,
   "metadata": {},
   "outputs": [],
   "source": [
    "class teste_cepespdata:\n",
    "    \n",
    "    ## Construtor\n",
    "    def __init__(self, ano, cargo, agregacao_politica = 2, agregacao_regional = 0, test = False):\n",
    "        \n",
    "        if test:\n",
    "            self.u0 = \"http://test.cepesp.io/api/consulta/\"\n",
    "        else:\n",
    "            self.u0 = 'http://cepesp.io/api/consulta/'\n",
    "            \n",
    "        self.ano = str(ano)\n",
    "        self.cargo = str(cargo)\n",
    "        self.agregacao_politica = str(agregacao_politica)\n",
    "        self.agregacao_regional = str(agregacao_regional)\n",
    "        self.log = {'ano':self.ano,\n",
    "                    'cargo':self.cargo,\n",
    "                    'agregacao_politica': self.agregacao_politica,\n",
    "                    'agregacao_regional': self.agregacao_regional,\n",
    "                    'banco_candidatos':{},\n",
    "                    'banco_eleicoes':{}}\n",
    "    \n",
    "    ## Download dos Bancos\n",
    "    def download_eleicoes(self):\n",
    "        colunas = 'c[]=ANO_ELEICAO&c[]=NUM_TURNO&c[]=COD_MUN_TSE&c[]=COD_MUN_IBGE&c[]=NOME_MUNICIPIO&c[]=UF&c[]=CODIGO_CARGO&c[]=DESCRICAO_CARGO&c[]=NOME_CANDIDATO&c[]=NUMERO_CANDIDATO&c[]=CPF_CANDIDATO&c[]=DES_SITUACAO_CANDIDATURA&c[]=NUMERO_PARTIDO&c[]=SIGLA_PARTIDO&c[]=NUM_TITULO_ELEITORAL_CANDIDATO&c[]=QTDE_VOTOS'\n",
    "        u0 = self.u0 + \"/tse?format=csv&cargo=\" + \\\n",
    "                self.cargo + \"&anos[]=\" + \\\n",
    "                self.ano+\"&agregacao_regional=\" + \\\n",
    "                self.agregacao_regional+\"&agregacao_politica=\" + \\\n",
    "                self.agregacao_politica+\"&brancos=1&nulos=1&\" +\\\n",
    "                colunas\n",
    "        \n",
    "        print(u0)\n",
    "        eleicoes_df = pd.read_csv(u0, sep = \",\", dtype = {'num_titulo_eleitoral_candidato': str,\n",
    "                                                          'cpf_candidato': str})\n",
    "        self.banco_eleicoes = eleicoes_df\n",
    "    \n",
    "    ## Testes\n",
    "    def download_candidatos(self):\n",
    "        u0 = self.u0 + \"candidatos?format=csv&cargo=\"+self.cargo+\"&anos[]=\"+self.ano\n",
    "        candidatos_df = pd.read_csv(u0, sep = ',')\n",
    "        self.banco_candidatos = candidatos_df\n",
    "        \n",
    "    def teste_eleicoes(self):\n",
    "        b1 = 'banco_eleicoes'\n",
    "        self.log[b1] = {}\n",
    "        self.log[b1]['brancos_nulos'] = teste_votos_brancos_nulos(self.banco_eleicoes)\n",
    "        self.log[b1]['cpf_titulo'] = teste_cpf_titulos(self.banco_eleicoes)\n",
    "        self.log[b1]['votos_legenda'] = teste_voto_legenda(self.banco_eleicoes)\n",
    "        if self.agregacao_regional == 6: # Teste n de cidades apenas se agreg. reg. for municipal\n",
    "            self.log[b1]['n_cidades'] = teste_cidades(self.banco_eleicoes)\n",
    "\n",
    "                \n",
    "    def teste(self):\n",
    "        print(\"Starting test...\\nyear: \" + self.ano + \"\\nposition: \" + self.cargo)\n",
    "        \n",
    "        self.log['banco_candidatos'] = self.teste_eleicoes()\n",
    "        \n",
    "    def __str__(self):\n",
    "        texto = '''\n",
    "ANO: {}, CARGO: {}\n",
    "\n",
    "Branco: {}\n",
    "Nulos: {}\n",
    "\n",
    "Proporção de CPF com 11 dígitos: {:.2f}\n",
    "Proporção de títulos com 12 dígitos: {:.2f}\n",
    "\n",
    "Proporção de votos em legenda: {:.2f}\n",
    "\n",
    "'''\n",
    "        banco_candidatos = self.log['banco_eleicoes']\n",
    "        print_out = texto.format(self.log['ano'], \n",
    "                                 self.log['cargo'],\n",
    "                                 banco_candidatos['brancos_nulos']['brancos'],\n",
    "                                 banco_candidatos['brancos_nulos']['nulos'],\n",
    "                                 banco_candidatos['cpf_titulo']['prop_cpf'],\n",
    "                                 banco_candidatos['cpf_titulo']['prop_titulo'],\n",
    "                                 banco_candidatos['votos_legenda']['votos_legenda'])\n",
    "        return print_out"
   ]
  },
  {
   "cell_type": "code",
   "execution_count": 8,
   "metadata": {},
   "outputs": [],
   "source": [
    "x = teste_cepespdata(2014,1, agregacao_regional=6)"
   ]
  },
  {
   "cell_type": "code",
   "execution_count": 9,
   "metadata": {},
   "outputs": [
    {
     "name": "stdout",
     "output_type": "stream",
     "text": [
      "http://cepesp.io/api/consulta//tse?format=csv&cargo=6&anos[]=2014&agregacao_regional=0&agregacao_politica=2&brancos=1&nulos=1&c[]=ANO_ELEICAO&c[]=NUM_TURNO&c[]=COD_MUN_TSE&c[]=COD_MUN_IBGE&c[]=NOME_MUNICIPIO&c[]=UF&c[]=CODIGO_CARGO&c[]=DESCRICAO_CARGO&c[]=NOME_CANDIDATO&c[]=NUMERO_CANDIDATO&c[]=CPF_CANDIDATO&c[]=DES_SITUACAO_CANDIDATURA&c[]=NUMERO_PARTIDO&c[]=SIGLA_PARTIDO&c[]=NUM_TITULO_ELEITORAL_CANDIDATO&c[]=QTDE_VOTOS\n"
     ]
    }
   ],
   "source": [
    "x.download_eleicoes()"
   ]
  },
  {
   "cell_type": "code",
   "execution_count": 10,
   "metadata": {},
   "outputs": [
    {
     "name": "stdout",
     "output_type": "stream",
     "text": [
      "Starting test...\n",
      "year: 2014\n",
      "position: 6\n"
     ]
    }
   ],
   "source": [
    "x.teste()"
   ]
  },
  {
   "cell_type": "code",
   "execution_count": 11,
   "metadata": {},
   "outputs": [
    {
     "name": "stdout",
     "output_type": "stream",
     "text": [
      "\n",
      "ANO: 2014, CARGO: 6\n",
      "\n",
      "Branco: True\n",
      "Nulos: True\n",
      "\n",
      "Proporção de CPF com 11 dígitos: 0.88\n",
      "Proporção de títulos com 12 dígitos: 0.88\n",
      "\n",
      "Proporção de votos em legenda: 0.12\n",
      "\n",
      "\n"
     ]
    }
   ],
   "source": [
    "print(x)"
   ]
  },
  {
   "cell_type": "code",
   "execution_count": null,
   "metadata": {},
   "outputs": [],
   "source": []
  }
 ],
 "metadata": {
  "kernelspec": {
   "display_name": "Python 3",
   "language": "python",
   "name": "python3"
  },
  "language_info": {
   "codemirror_mode": {
    "name": "ipython",
    "version": 3
   },
   "file_extension": ".py",
   "mimetype": "text/x-python",
   "name": "python",
   "nbconvert_exporter": "python",
   "pygments_lexer": "ipython3",
   "version": "3.7.0"
  }
 },
 "nbformat": 4,
 "nbformat_minor": 2
}
