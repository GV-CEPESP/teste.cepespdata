{
 "cells": [
  {
   "cell_type": "code",
   "execution_count": 3,
   "metadata": {},
   "outputs": [],
   "source": [
    "import pandas as pd\n",
    "import numpy as np\n",
    "import requests\n",
    "import os"
   ]
  },
  {
   "cell_type": "markdown",
   "metadata": {},
   "source": [
    "## Função de Testes Específicos"
   ]
  },
  {
   "cell_type": "code",
   "execution_count": 4,
   "metadata": {},
   "outputs": [],
   "source": [
    "## Votos Brancos\n",
    "def teste_votos_brancos_nulos(banco):\n",
    "        brancos = sum(banco.numero_candidato == 95) > 0\n",
    "        nulos = sum(banco.numero_candidato == 96) > 0\n",
    "        return {'brancos':brancos, 'nulos':nulos}\n",
    "\n",
    "## Votos Legenda\n",
    "# Proporção de votos legenda\n",
    "def teste_voto_legenda(banco):\n",
    "    numero_partidos = [15, 14, 12, 13, 25, 65, 40, 45, 36,\n",
    "                       20, 33, 44, 23, 43, 70, 11, 16, 16,\n",
    "                       21, 28, 31, 27, 29, 19, 17, 10, 50,\n",
    "                       22, 55, 54, 51, 90, 77, 30, 18, 35]\n",
    "\n",
    "    x = [k for k in banco.numero_candidato if len(str(k)) == 2]\n",
    "    prop_votos_legenda = sum(np.in1d(x, numero_partidos)) / len(banco.numero_candidato)\n",
    "\n",
    "    return {'votos_legenda': prop_votos_legenda}\n",
    "\n",
    "## N de Cidades\n",
    "def teste_cidades(banco):\n",
    "    n_unique_ibge = len(set(banco.cod_mun_ibge))\n",
    "    n_unique_tse = len(set(banco.cod_mun_tse))\n",
    "\n",
    "    return {'ibge': n_unique_ibge, 'tse': n_unique_tse}\n",
    "\n",
    "## CPF e Títulos\n",
    "# Proporção de CPF e Títulos com número correto\n",
    "def teste_cpf_titulos(banco):\n",
    "    len_titulo = [(lambda x: len(str(x)))(x) for x in banco.num_titulo_eleitoral_candidato]\n",
    "    len_cpf = [(lambda x: len(str(x)))(x) for x in banco.cpf_candidato]\n",
    "    prop_titulo = sum(np.array(len_titulo) == 12) / len(len_titulo)\n",
    "    prop_cpf    = sum(np.array(len_cpf) == 11) / len(len_cpf)\n",
    "    return {'prop_titulo': prop_titulo, 'prop_cpf': prop_cpf}"
   ]
  },
  {
   "cell_type": "code",
   "execution_count": 49,
   "metadata": {},
   "outputs": [],
   "source": [
    "class teste_cepespdata:\n",
    "    \n",
    "    ## Construtor\n",
    "    def __init__(self, ano, cargo, agregacao_politica = 2, agregacao_regional = 0, test = False):\n",
    "        \n",
    "        if test:\n",
    "            self.u0 = \"http://test.cepesp.io/api/consulta/\"\n",
    "        else:\n",
    "            self.u0 = 'http://cepesp.io/api/consulta/'\n",
    "            \n",
    "        self.ano = str(ano)\n",
    "        self.cargo = str(cargo)\n",
    "        self.agregacao_politica = str(agregacao_politica)\n",
    "        self.agregacao_regional = str(agregacao_regional)\n",
    "        self.log = {'ano':self.ano,\n",
    "                    'cargo':self.cargo,\n",
    "                    'agregacao_politica': self.agregacao_politica,\n",
    "                    'agregacao_regional': self.agregacao_regional,\n",
    "                    'banco_candidatos':{},\n",
    "                    'banco_eleicoes':{}}\n",
    "    \n",
    "    ## Download dos Bancos\n",
    "    def download_eleicoes(self):\n",
    "        colunas = 'c[]=ANO_ELEICAO&c[]=NUM_TURNO&c[]=COD_MUN_TSE&c[]=COD_MUN_IBGE&c[]=NOME_MUNICIPIO&c[]=UF&c[]=CODIGO_CARGO&c[]=DESCRICAO_CARGO&c[]=NOME_CANDIDATO&c[]=NUMERO_CANDIDATO&c[]=CPF_CANDIDATO&c[]=DES_SITUACAO_CANDIDATURA&c[]=NUMERO_PARTIDO&c[]=SIGLA_PARTIDO&c[]=NUM_TITULO_ELEITORAL_CANDIDATO&c[]=QTDE_VOTOS'\n",
    "        u0 = self.u0 + \"/tse?format=csv&cargo=\" + \\\n",
    "                self.cargo + \"&anos[]=\" + \\\n",
    "                self.ano+\"&agregacao_regional=\" + \\\n",
    "                self.agregacao_regional+\"&agregacao_politica=\" + \\\n",
    "                self.agregacao_politica+\"&brancos=1&nulos=1&\" +\\\n",
    "                colunas\n",
    "        \n",
    "        print(u0)\n",
    "        eleicoes_df = pd.read_csv(u0, sep = \",\", dtype = {'num_titulo_eleitoral_candidato': str,\n",
    "                                                          'cpf_candidato': str})\n",
    "        self.banco_eleicoes = eleicoes_df\n",
    "    \n",
    "    ## Testes\n",
    "    def download_candidatos(self):\n",
    "        u0 = self.u0 + \"candidatos?format=csv&cargo=\"+self.cargo+\"&anos[]=\"+self.ano\n",
    "        candidatos_df = pd.read_csv(u0, sep = ',')\n",
    "        self.banco_candidatos = candidatos_df\n",
    "        \n",
    "    def teste_eleicoes(self):\n",
    "        b1 = 'banco_eleicoes'\n",
    "        self.log[b1] = {}\n",
    "        self.log[b1]['brancos_nulos'] = teste_votos_brancos_nulos(self.banco_eleicoes)\n",
    "        self.log[b1]['cpf_titulo'] = teste_cpf_titulos(self.banco_eleicoes)\n",
    "        self.log[b1]['votos_legenda'] = teste_voto_legenda(self.banco_eleicoes)\n",
    "        if self.agregacao_regional == 6: # Teste n de cidades apenas se agreg. reg. for municipal\n",
    "            self.log[b1]['n_cidades'] = teste_cidades(self.banco_eleicoes)\n",
    "\n",
    "                \n",
    "    def teste(self):\n",
    "        print(\"Starting test...\\nyear: \" + self.ano + \"\\nposition: \" + self.cargo)\n",
    "        \n",
    "        self.log['banco_candidatos'] = self.teste_eleicoes()\n",
    "        \n",
    "    def __str__(self):\n",
    "        texto = '''\n",
    "ANO: {}, CARGO: {}\n",
    "\n",
    "Branco: {}\n",
    "Nulos: {}\n",
    "\n",
    "Proporção de CPF com 11 dígitos: {:.2f}\n",
    "Proporção de títulos com 12 dígitos: {:.2f}\n",
    "\n",
    "Proporção de votos em legenda: {:.2f}\n",
    "\n",
    "'''\n",
    "        banco_candidatos = self.log['banco_eleicoes']\n",
    "        print_out = texto.format(self.log['ano'], \n",
    "                                 self.log['cargo'],\n",
    "                                 banco_candidatos['brancos_nulos']['brancos'],\n",
    "                                 banco_candidatos['brancos_nulos']['nulos'],\n",
    "                                 banco_candidatos['cpf_titulo']['prop_cpf'],\n",
    "                                 banco_candidatos['cpf_titulo']['prop_titulo'],\n",
    "                                 banco_candidatos['votos_legenda']['votos_legenda'])\n",
    "        return print_out"
   ]
  },
  {
   "cell_type": "code",
   "execution_count": 50,
   "metadata": {},
   "outputs": [],
   "source": [
    "x = teste_cepespdata(2014,1)"
   ]
  },
  {
   "cell_type": "code",
   "execution_count": 51,
   "metadata": {},
   "outputs": [
    {
     "name": "stdout",
     "output_type": "stream",
     "text": [
      "http://cepesp.io/api/consulta//tse?format=csv&cargo=1&anos[]=2014&agregacao_regional=0&agregacao_politica=2&brancos=1&nulos=1c[]=ANO_ELEICAO&c[]=NUM_TURNO&c[]=COD_MUN_TSE&c[]=COD_MUN_IBGE&c[]=NOME_MUNICIPIO&c[]=UF&c[]=CODIGO_CARGO&c[]=DESCRICAO_CARGO&c[]=NOME_CANDIDATO&c[]=NUMERO_CANDIDATO&c[]=CPF_CANDIDATO&c[]=DES_SITUACAO_CANDIDATURA&c[]=NUMERO_PARTIDO&c[]=SIGLA_PARTIDO&c[]=NUM_TITULO_ELEITORAL_CANDIDATO&c[]=QTDE_VOTOS\n"
     ]
    }
   ],
   "source": [
    "x.download_eleicoes()"
   ]
  },
  {
   "cell_type": "code",
   "execution_count": 48,
   "metadata": {},
   "outputs": [
    {
     "name": "stdout",
     "output_type": "stream",
     "text": [
      "Index(['ano_eleicao', 'num_turno', 'descricao_eleicao', 'codigo_cargo',\n",
      "       'descricao_cargo', 'numero_candidato', 'qtde_votos', 'numero_partido',\n",
      "       'nome_candidato', 'cpf_candidato', 'nome_urna_candidato',\n",
      "       'cod_situacao_candidatura', 'des_situacao_candidatura',\n",
      "       'codigo_legenda', 'sigla_legenda', 'composicao_legenda',\n",
      "       'codigo_ocupacao', 'descricao_ocupacao', 'data_nascimento',\n",
      "       'num_titulo_eleitoral_candidato', 'idade_data_eleicao', 'codigo_sexo',\n",
      "       'descricao_sexo', 'cod_grau_instrucao', 'descricao_grau_instrucao',\n",
      "       'codigo_estado_civil', 'descricao_estado_civil', 'codigo_cor_raca',\n",
      "       'descricao_cor_raca', 'codigo_nacionalidade', 'descricao_nacionalidade',\n",
      "       'sigla_uf_nascimento', 'codigo_municipio_nascimento',\n",
      "       'nome_municipio_nascimento', 'despesa_max_campanha',\n",
      "       'cod_sit_tot_turno', 'desc_sit_tot_turno', 'email_candidato',\n",
      "       'tipo_legenda', 'sigla_partido', 'nome_partido', 'sigla_coligacao',\n",
      "       'nome_coligacao', 'composicao_coligacao', 'sequencia_coligacao'],\n",
      "      dtype='object')\n"
     ]
    }
   ],
   "source": [
    "print(x.banco_eleicoes.columns)"
   ]
  },
  {
   "cell_type": "code",
   "execution_count": 42,
   "metadata": {},
   "outputs": [
    {
     "ename": "KeyError",
     "evalue": "\"None of [['qtd_votos']] are in the [columns]\"",
     "output_type": "error",
     "traceback": [
      "\u001b[0;31m---------------------------------------------------------------------------\u001b[0m",
      "\u001b[0;31mKeyError\u001b[0m                                  Traceback (most recent call last)",
      "\u001b[0;32m<ipython-input-42-93e664f0d9c2>\u001b[0m in \u001b[0;36m<module>\u001b[0;34m\u001b[0m\n\u001b[0;32m----> 1\u001b[0;31m \u001b[0mx\u001b[0m\u001b[0;34m.\u001b[0m\u001b[0mbanco_eleicoes\u001b[0m\u001b[0;34m.\u001b[0m\u001b[0mloc\u001b[0m\u001b[0;34m[\u001b[0m\u001b[0;34m:\u001b[0m\u001b[0;34m,\u001b[0m\u001b[0;34m[\u001b[0m\u001b[0;34m'qtd_votos'\u001b[0m\u001b[0;34m]\u001b[0m\u001b[0;34m]\u001b[0m\u001b[0;34m\u001b[0m\u001b[0m\n\u001b[0m",
      "\u001b[0;32m/opt/conda/lib/python3.6/site-packages/pandas/core/indexing.py\u001b[0m in \u001b[0;36m__getitem__\u001b[0;34m(self, key)\u001b[0m\n\u001b[1;32m   1470\u001b[0m             \u001b[0;32mexcept\u001b[0m \u001b[0;34m(\u001b[0m\u001b[0mKeyError\u001b[0m\u001b[0;34m,\u001b[0m \u001b[0mIndexError\u001b[0m\u001b[0;34m)\u001b[0m\u001b[0;34m:\u001b[0m\u001b[0;34m\u001b[0m\u001b[0m\n\u001b[1;32m   1471\u001b[0m                 \u001b[0;32mpass\u001b[0m\u001b[0;34m\u001b[0m\u001b[0m\n\u001b[0;32m-> 1472\u001b[0;31m             \u001b[0;32mreturn\u001b[0m \u001b[0mself\u001b[0m\u001b[0;34m.\u001b[0m\u001b[0m_getitem_tuple\u001b[0m\u001b[0;34m(\u001b[0m\u001b[0mkey\u001b[0m\u001b[0;34m)\u001b[0m\u001b[0;34m\u001b[0m\u001b[0m\n\u001b[0m\u001b[1;32m   1473\u001b[0m         \u001b[0;32melse\u001b[0m\u001b[0;34m:\u001b[0m\u001b[0;34m\u001b[0m\u001b[0m\n\u001b[1;32m   1474\u001b[0m             \u001b[0;31m# we by definition only have the 0th axis\u001b[0m\u001b[0;34m\u001b[0m\u001b[0;34m\u001b[0m\u001b[0m\n",
      "\u001b[0;32m/opt/conda/lib/python3.6/site-packages/pandas/core/indexing.py\u001b[0m in \u001b[0;36m_getitem_tuple\u001b[0;34m(self, tup)\u001b[0m\n\u001b[1;32m    888\u001b[0m                 \u001b[0;32mcontinue\u001b[0m\u001b[0;34m\u001b[0m\u001b[0m\n\u001b[1;32m    889\u001b[0m \u001b[0;34m\u001b[0m\u001b[0m\n\u001b[0;32m--> 890\u001b[0;31m             \u001b[0mretval\u001b[0m \u001b[0;34m=\u001b[0m \u001b[0mgetattr\u001b[0m\u001b[0;34m(\u001b[0m\u001b[0mretval\u001b[0m\u001b[0;34m,\u001b[0m \u001b[0mself\u001b[0m\u001b[0;34m.\u001b[0m\u001b[0mname\u001b[0m\u001b[0;34m)\u001b[0m\u001b[0;34m.\u001b[0m\u001b[0m_getitem_axis\u001b[0m\u001b[0;34m(\u001b[0m\u001b[0mkey\u001b[0m\u001b[0;34m,\u001b[0m \u001b[0maxis\u001b[0m\u001b[0;34m=\u001b[0m\u001b[0mi\u001b[0m\u001b[0;34m)\u001b[0m\u001b[0;34m\u001b[0m\u001b[0m\n\u001b[0m\u001b[1;32m    891\u001b[0m \u001b[0;34m\u001b[0m\u001b[0m\n\u001b[1;32m    892\u001b[0m         \u001b[0;32mreturn\u001b[0m \u001b[0mretval\u001b[0m\u001b[0;34m\u001b[0m\u001b[0m\n",
      "\u001b[0;32m/opt/conda/lib/python3.6/site-packages/pandas/core/indexing.py\u001b[0m in \u001b[0;36m_getitem_axis\u001b[0;34m(self, key, axis)\u001b[0m\n\u001b[1;32m   1899\u001b[0m                     \u001b[0;32mraise\u001b[0m \u001b[0mValueError\u001b[0m\u001b[0;34m(\u001b[0m\u001b[0;34m'Cannot index with multidimensional key'\u001b[0m\u001b[0;34m)\u001b[0m\u001b[0;34m\u001b[0m\u001b[0m\n\u001b[1;32m   1900\u001b[0m \u001b[0;34m\u001b[0m\u001b[0m\n\u001b[0;32m-> 1901\u001b[0;31m                 \u001b[0;32mreturn\u001b[0m \u001b[0mself\u001b[0m\u001b[0;34m.\u001b[0m\u001b[0m_getitem_iterable\u001b[0m\u001b[0;34m(\u001b[0m\u001b[0mkey\u001b[0m\u001b[0;34m,\u001b[0m \u001b[0maxis\u001b[0m\u001b[0;34m=\u001b[0m\u001b[0maxis\u001b[0m\u001b[0;34m)\u001b[0m\u001b[0;34m\u001b[0m\u001b[0m\n\u001b[0m\u001b[1;32m   1902\u001b[0m \u001b[0;34m\u001b[0m\u001b[0m\n\u001b[1;32m   1903\u001b[0m             \u001b[0;31m# nested tuple slicing\u001b[0m\u001b[0;34m\u001b[0m\u001b[0;34m\u001b[0m\u001b[0m\n",
      "\u001b[0;32m/opt/conda/lib/python3.6/site-packages/pandas/core/indexing.py\u001b[0m in \u001b[0;36m_getitem_iterable\u001b[0;34m(self, key, axis)\u001b[0m\n\u001b[1;32m   1141\u001b[0m             \u001b[0;32mif\u001b[0m \u001b[0mlabels\u001b[0m\u001b[0;34m.\u001b[0m\u001b[0mis_unique\u001b[0m \u001b[0;32mand\u001b[0m \u001b[0mIndex\u001b[0m\u001b[0;34m(\u001b[0m\u001b[0mkeyarr\u001b[0m\u001b[0;34m)\u001b[0m\u001b[0;34m.\u001b[0m\u001b[0mis_unique\u001b[0m\u001b[0;34m:\u001b[0m\u001b[0;34m\u001b[0m\u001b[0m\n\u001b[1;32m   1142\u001b[0m                 \u001b[0mindexer\u001b[0m \u001b[0;34m=\u001b[0m \u001b[0max\u001b[0m\u001b[0;34m.\u001b[0m\u001b[0mget_indexer_for\u001b[0m\u001b[0;34m(\u001b[0m\u001b[0mkey\u001b[0m\u001b[0;34m)\u001b[0m\u001b[0;34m\u001b[0m\u001b[0m\n\u001b[0;32m-> 1143\u001b[0;31m                 \u001b[0mself\u001b[0m\u001b[0;34m.\u001b[0m\u001b[0m_validate_read_indexer\u001b[0m\u001b[0;34m(\u001b[0m\u001b[0mkey\u001b[0m\u001b[0;34m,\u001b[0m \u001b[0mindexer\u001b[0m\u001b[0;34m,\u001b[0m \u001b[0maxis\u001b[0m\u001b[0;34m)\u001b[0m\u001b[0;34m\u001b[0m\u001b[0m\n\u001b[0m\u001b[1;32m   1144\u001b[0m \u001b[0;34m\u001b[0m\u001b[0m\n\u001b[1;32m   1145\u001b[0m                 \u001b[0md\u001b[0m \u001b[0;34m=\u001b[0m \u001b[0;34m{\u001b[0m\u001b[0maxis\u001b[0m\u001b[0;34m:\u001b[0m \u001b[0;34m[\u001b[0m\u001b[0max\u001b[0m\u001b[0;34m.\u001b[0m\u001b[0mreindex\u001b[0m\u001b[0;34m(\u001b[0m\u001b[0mkeyarr\u001b[0m\u001b[0;34m)\u001b[0m\u001b[0;34m[\u001b[0m\u001b[0;36m0\u001b[0m\u001b[0;34m]\u001b[0m\u001b[0;34m,\u001b[0m \u001b[0mindexer\u001b[0m\u001b[0;34m]\u001b[0m\u001b[0;34m}\u001b[0m\u001b[0;34m\u001b[0m\u001b[0m\n",
      "\u001b[0;32m/opt/conda/lib/python3.6/site-packages/pandas/core/indexing.py\u001b[0m in \u001b[0;36m_validate_read_indexer\u001b[0;34m(self, key, indexer, axis)\u001b[0m\n\u001b[1;32m   1204\u001b[0m                 raise KeyError(\n\u001b[1;32m   1205\u001b[0m                     u\"None of [{key}] are in the [{axis}]\".format(\n\u001b[0;32m-> 1206\u001b[0;31m                         key=key, axis=self.obj._get_axis_name(axis)))\n\u001b[0m\u001b[1;32m   1207\u001b[0m \u001b[0;34m\u001b[0m\u001b[0m\n\u001b[1;32m   1208\u001b[0m             \u001b[0;31m# we skip the warning on Categorical/Interval\u001b[0m\u001b[0;34m\u001b[0m\u001b[0;34m\u001b[0m\u001b[0m\n",
      "\u001b[0;31mKeyError\u001b[0m: \"None of [['qtd_votos']] are in the [columns]\""
     ]
    }
   ],
   "source": [
    "x.banco_eleicoes.loc[:,['qtd_votos']]"
   ]
  },
  {
   "cell_type": "code",
   "execution_count": null,
   "metadata": {},
   "outputs": [],
   "source": []
  }
 ],
 "metadata": {
  "kernelspec": {
   "display_name": "Python 3",
   "language": "python",
   "name": "python3"
  },
  "language_info": {
   "codemirror_mode": {
    "name": "ipython",
    "version": 3
   },
   "file_extension": ".py",
   "mimetype": "text/x-python",
   "name": "python",
   "nbconvert_exporter": "python",
   "pygments_lexer": "ipython3",
   "version": "3.6.6"
  }
 },
 "nbformat": 4,
 "nbformat_minor": 2
}
