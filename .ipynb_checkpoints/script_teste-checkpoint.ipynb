{
 "cells": [
  {
   "cell_type": "markdown",
   "metadata": {},
   "source": [
    "# Script Teste"
   ]
  },
  {
   "cell_type": "markdown",
   "metadata": {},
   "source": [
    "_Script_ que define a classe `teste_cepespdata`"
   ]
  },
  {
   "cell_type": "code",
   "execution_count": 1,
   "metadata": {},
   "outputs": [],
   "source": [
    "import pandas as pd\n",
    "import numpy as np\n",
    "import requests\n",
    "import os"
   ]
  },
  {
   "cell_type": "markdown",
   "metadata": {},
   "source": [
    "## Função de Testes Específicos"
   ]
  },
  {
   "cell_type": "code",
   "execution_count": 2,
   "metadata": {},
   "outputs": [],
   "source": [
    "class teste_cepespdata:\n",
    "    ############################################################################\n",
    "    ############################################################################\n",
    "    ## 1. Construtor\n",
    "    def __init__(self, ano, cargo, agregacao_politica = 2, agregacao_regional = 0, test = False):\n",
    "        \n",
    "        if test:\n",
    "            self.u0 = \"http://test.cepesp.io/api/consulta/\"\n",
    "        else:\n",
    "            self.u0 = 'http://cepesp.io/api/consulta/'\n",
    "            \n",
    "        self.ano = str(ano)\n",
    "        self.cargo = str(cargo)\n",
    "        self.agregacao_politica = str(agregacao_politica)\n",
    "        self.agregacao_regional = str(agregacao_regional)\n",
    "        self.download_candidatos()\n",
    "        self.download_eleicoes()\n",
    "    \n",
    "    ############################################################################\n",
    "    ############################################################################\n",
    "    # 2. Funções para Download dos Bancos\n",
    "    \n",
    "    def download_eleicoes(self):\n",
    "        colunas = 'c[]=ANO_ELEICAO&c[]=NUM_TURNO&c[]=COD_MUN_TSE&c[]=COD_MUN_IBGE&c[]=NOME_MUNICIPIO&c[]=UF&c[]=CODIGO_CARGO&c[]=DESCRICAO_CARGO&c[]=NOME_CANDIDATO&c[]=NUMERO_CANDIDATO&c[]=CPF_CANDIDATO&c[]=DES_SITUACAO_CANDIDATURA&c[]=NUMERO_PARTIDO&c[]=SIGLA_PARTIDO&c[]=NUM_TITULO_ELEITORAL_CANDIDATO&c[]=QTDE_VOTOS'\n",
    "        u0 = self.u0 + \"/tse?format=csv&cargo=\" + \\\n",
    "                self.cargo + \"&anos[]=\" + \\\n",
    "                self.ano+\"&agregacao_regional=\" + \\\n",
    "                self.agregacao_regional+\"&agregacao_politica=\" + \\\n",
    "                self.agregacao_politica+\"&brancos=1&nulos=1&\" +\\\n",
    "                colunas\n",
    "        \n",
    "        eleicoes_df = pd.read_csv(u0, sep = \",\", dtype = {'num_titulo_eleitoral_candidato': str,\n",
    "                                                          'cpf_candidato': str})\n",
    "        self.banco_eleicoes = eleicoes_df\n",
    "        \n",
    "    def download_candidatos(self):\n",
    "        u0 = self.u0 + \"candidatos?format=csv&cargo=\"+self.cargo+\"&anos[]=\"+self.ano\n",
    "        candidatos_df = pd.read_csv(u0, sep = ',',  dtype = {'num_titulo_eleitoral_candidato': str,\n",
    "                                                             'cpf_candidato': str})\n",
    "        self.banco_candidatos = candidatos_df\n",
    "    \n",
    "    ############################################################################\n",
    "    ############################################################################\n",
    "    # 3. Funções para Testes Específicos\n",
    "    \n",
    "    ## 3.1. Votos Brancos e Nulos\n",
    "    def teste_total_votos(self):\n",
    "        banco = self.banco_eleicoes\n",
    "        qtde_votos_total_1turno = banco[banco.num_turno == 1][['qtde_votos']].sum()\n",
    "        qtde_votos_total_2turno = banco[banco.num_turno == 2][['qtde_votos']].sum()\n",
    "        self.qtde_votos_total_1turno = int(qtde_votos_total_1turno)\n",
    "        self.qtde_votos_total_2turno = int(qtde_votos_total_2turno)\n",
    "        \n",
    "    def teste_votos_brancos_nulos(self):\n",
    "        banco = self.banco_eleicoes\n",
    "        banco = banco[banco.num_turno == 1]\n",
    "        \n",
    "        qtde_votos_brancos = banco[banco.numero_candidato == 95].qtde_votos.sum()\n",
    "        qtde_votos_nulos = banco[banco.numero_candidato == 96].qtde_votos.sum()\n",
    "        \n",
    "        brancos = qtde_votos_brancos / self.qtde_votos_total_1turno\n",
    "        nulos = qtde_votos_nulos / self.qtde_votos_total_1turno\n",
    "        \n",
    "        self.prop_votos_brancos = brancos\n",
    "        self.prop_votos_nulos = nulos\n",
    "\n",
    "    ## 3.2. Votos Legenda - Proporção de votos legenda\n",
    "    def teste_voto_legenda(self):\n",
    "        banco = self.banco_eleicoes\n",
    "        banco = banco[banco.num_turno == 1]\n",
    "        \n",
    "        numero_legendas = range(10,91) # partidos entre 10 e 90 inclusivo\n",
    "\n",
    "        qtde_votos_legenda = banco[np.in1d(banco.numero_candidato, numero_legendas)].qtde_votos.sum()\n",
    "        prop_votos_legenda = qtde_votos_legenda / self.qtde_votos_total_1turno\n",
    "        \n",
    "        self.qtde_votos_legenda =  qtde_votos_legenda\n",
    "        self.prop_votos_legenda = prop_votos_legenda\n",
    "\n",
    "    ## 3.3. Número de Cidades Únicas\n",
    "    def teste_cidades(self):\n",
    "        banco = self.banco_eleicoes\n",
    "        \n",
    "        n_unique_ibge = len(set(banco.cod_mun_ibge))\n",
    "        n_unique_tse = len(set(banco.cod_mun_tse))\n",
    "        \n",
    "        self.qtde_cidades_ibge = n_unique_ibge\n",
    "        self.qtde_cidades_tse = n_unique_tse\n",
    "\n",
    "    ## 3.4. Proporção de CPFs e Títulos Válidos\n",
    "    def teste_cpf_titulos(self):\n",
    "        banco = self.banco_eleicoes\n",
    "        \n",
    "        len_titulo = [(lambda x: len(str(x)))(x) for x in banco.num_titulo_eleitoral_candidato]\n",
    "        len_cpf = [(lambda x: len(str(x)))(x) for x in banco.cpf_candidato]\n",
    "        prop_titulo = sum(np.array(len_titulo) == 12) / len(len_titulo)\n",
    "        prop_cpf    = sum(np.array(len_cpf) == 11) / len(len_cpf)\n",
    "        \n",
    "        self.prop_titulo_validos = prop_titulo\n",
    "        self.prop_cpf_validos = prop_cpf\n",
    "    \n",
    "    ## 3.5. (ALFA) TESTE DO NÙMERO TOTAL DE VOTOS\n",
    "    def teste_votos(self):\n",
    "        pass\n",
    "    \n",
    "    ## 3.6. Quantidade de Eleitos e de Vagas\n",
    "    def teste_eleitos(self):\n",
    "       \n",
    "        valores_eleitos = \"ELEITO\", 'ELEITO POR QP', 'ELEITO POR MÉDIA'\n",
    "        qtde_eleitos = sum(np.in1d(self.banco_candidatos.DESC_SIT_TOT_TURNO, valores_eleitos))\n",
    "        \n",
    "        molde = pd.read_csv(\"data/moldes/molde_vagas.csv\")\n",
    "        vagas = molde[(molde.ANO_ELEICAO == int(self.ano)) & (molde.CODIGO_CARGO == int(self.cargo))][['QTDE_VAGAS']].sum()[0]\n",
    "        \n",
    "        self.qtde_vagas_disponiveis = vagas\n",
    "        self.qtde_eleitos = qtde_eleitos \n",
    "    \n",
    "    ############################################################################\n",
    "    ############################################################################\n",
    "    # 4. Funções para Chamar mais de teste\n",
    "    \n",
    "    ## 4.1. Teste para o Banco de Eleições\n",
    "    def call_teste_eleicoes(self):\n",
    "        self.teste_total_votos()\n",
    "        self.teste_votos_brancos_nulos()\n",
    "        self.teste_cpf_titulos()\n",
    "        self.teste_voto_legenda()\n",
    "        if self.agregacao_regional == 6: # Teste n de cidades apenas se agreg. reg. for municipal\n",
    "            self.teste_cidades()\n",
    "    \n",
    "    ## 4.2. Teste para o Banco de Candidatos\n",
    "    def call_teste_candidatos(self):\n",
    "        self.teste_eleitos()\n",
    "    \n",
    "    ## 4.3. Teste para todos os bancos definidos\n",
    "    def call_teste_geral(self):\n",
    "        print(\"Starting test...\\nyear: \" + self.ano + \"\\nposition: \" + self.cargo)\n",
    "        \n",
    "        self.call_teste_eleicoes()\n",
    "        self.call_teste_candidatos()\n",
    "    \n",
    "    ############################################################################\n",
    "    ############################################################################\n",
    "    # 5. Estrutura do print\n",
    "    def __str__(self):\n",
    "        texto = '''\n",
    "ANO: {}, CARGO: {}\n",
    "\n",
    "** BANCO ELEICOES - BETA\n",
    "\n",
    "Proporção Branco: {:.2f}\n",
    "Proporção Nulos: {:.2f}\n",
    "\n",
    "Proporção de CPF com 11 dígitos: {:.2f}\n",
    "Proporção de títulos com 12 dígitos: {:.2f}\n",
    "\n",
    "Proporção de votos em legenda: {:.2f}\n",
    "\n",
    "Total de Votos - 1º Turno: {}\n",
    "Total de Votos - 2º Turno: {}\n",
    "\n",
    "** BANCO CANDIDATOS\n",
    "\n",
    "Vagas: {}\n",
    "Eleitos: {}\n",
    "'''\n",
    "        print_out = texto.format(self.ano, \n",
    "                                 self.cargo,\n",
    "                                 self.prop_votos_brancos,\n",
    "                                 self.prop_votos_nulos,\n",
    "                                 self.prop_cpf_validos,\n",
    "                                 self.prop_titulo_validos,\n",
    "                                 self.prop_votos_legenda,\n",
    "                                 self.qtde_votos_total_1turno,\n",
    "                                 self.qtde_votos_total_2turno,\n",
    "                                 self.qtde_vagas_disponiveis,\n",
    "                                 self.qtde_eleitos)\n",
    "        return print_out"
   ]
  },
  {
   "cell_type": "code",
   "execution_count": 3,
   "metadata": {},
   "outputs": [],
   "source": [
    "teste = teste_cepespdata(2014,1, agregacao_regional=6)"
   ]
  },
  {
   "cell_type": "code",
   "execution_count": 4,
   "metadata": {},
   "outputs": [
    {
     "name": "stdout",
     "output_type": "stream",
     "text": [
      "Starting test...\n",
      "year: 2014\n",
      "position: 1\n"
     ]
    }
   ],
   "source": [
    "teste.call_teste_geral()"
   ]
  },
  {
   "cell_type": "code",
   "execution_count": 5,
   "metadata": {},
   "outputs": [
    {
     "data": {
      "text/plain": [
       "1"
      ]
     },
     "execution_count": 5,
     "metadata": {},
     "output_type": "execute_result"
    }
   ],
   "source": [
    "teste.qtde_eleitos"
   ]
  },
  {
   "cell_type": "code",
   "execution_count": 6,
   "metadata": {},
   "outputs": [
    {
     "ename": "TypeError",
     "evalue": "unsupported format string passed to Series.__format__",
     "output_type": "error",
     "traceback": [
      "\u001b[0;31m---------------------------------------------------------------------------\u001b[0m",
      "\u001b[0;31mTypeError\u001b[0m                                 Traceback (most recent call last)",
      "\u001b[0;32m<ipython-input-6-9dc40e60d667>\u001b[0m in \u001b[0;36m<module>\u001b[0;34m\u001b[0m\n\u001b[0;32m----> 1\u001b[0;31m \u001b[0mprint\u001b[0m\u001b[0;34m(\u001b[0m\u001b[0mteste\u001b[0m\u001b[0;34m)\u001b[0m\u001b[0;34m\u001b[0m\u001b[0m\n\u001b[0m",
      "\u001b[0;32m<ipython-input-2-62afd175f0d9>\u001b[0m in \u001b[0;36m__str__\u001b[0;34m(self)\u001b[0m\n\u001b[1;32m    175\u001b[0m                                  \u001b[0mself\u001b[0m\u001b[0;34m.\u001b[0m\u001b[0mqtde_votos_total_2turno\u001b[0m\u001b[0;34m,\u001b[0m\u001b[0;34m\u001b[0m\u001b[0m\n\u001b[1;32m    176\u001b[0m                                  \u001b[0mself\u001b[0m\u001b[0;34m.\u001b[0m\u001b[0mqtde_vagas_disponiveis\u001b[0m\u001b[0;34m,\u001b[0m\u001b[0;34m\u001b[0m\u001b[0m\n\u001b[0;32m--> 177\u001b[0;31m                                  self.qtde_eleitos)\n\u001b[0m\u001b[1;32m    178\u001b[0m         \u001b[0;32mreturn\u001b[0m \u001b[0mprint_out\u001b[0m\u001b[0;34m\u001b[0m\u001b[0m\n",
      "\u001b[0;31mTypeError\u001b[0m: unsupported format string passed to Series.__format__"
     ]
    }
   ],
   "source": [
    "print(teste)"
   ]
  },
  {
   "cell_type": "code",
   "execution_count": 12,
   "metadata": {},
   "outputs": [
    {
     "ename": "TypeError",
     "evalue": "unsupported format string passed to Series.__format__",
     "output_type": "error",
     "traceback": [
      "\u001b[0;31m---------------------------------------------------------------------------\u001b[0m",
      "\u001b[0;31mTypeError\u001b[0m                                 Traceback (most recent call last)",
      "\u001b[0;32m<ipython-input-12-c0ec2892981c>\u001b[0m in \u001b[0;36m<module>\u001b[0;34m\u001b[0m\n\u001b[1;32m     27\u001b[0m                          \u001b[0mteste\u001b[0m\u001b[0;34m.\u001b[0m\u001b[0mprop_votos_legenda\u001b[0m\u001b[0;34m,\u001b[0m\u001b[0;34m\u001b[0m\u001b[0m\n\u001b[1;32m     28\u001b[0m                          \u001b[0mteste\u001b[0m\u001b[0;34m.\u001b[0m\u001b[0mqtde_votos_total_1turno\u001b[0m\u001b[0;34m,\u001b[0m\u001b[0;34m\u001b[0m\u001b[0m\n\u001b[0;32m---> 29\u001b[0;31m                          teste.qtde_votos_total_2turno)\n\u001b[0m",
      "\u001b[0;31mTypeError\u001b[0m: unsupported format string passed to Series.__format__"
     ]
    }
   ],
   "source": [
    "texto = '''\n",
    "ANO: {}, CARGO: {}\n",
    "\n",
    "** BANCO ELEICOES - BETA\n",
    "\n",
    "Proporção Branco: {:.2f}\n",
    "Proporção Nulos: {:.2f}\n",
    "\n",
    "Proporção de CPF com 11 dígitos: {:.2f}\n",
    "Proporção de títulos com 12 dígitos: {:.2f}\n",
    "\n",
    "Proporção de votos em legenda: {:.2f}\n",
    "\n",
    "Total de Votos - 1º Turno: {}\n",
    "\n",
    "** BANCO CANDIDATOS\n",
    "\n",
    "\n",
    "'''\n",
    "print_out = texto.format(teste.ano, \n",
    "                         teste.cargo,\n",
    "                         teste.prop_votos_brancos,\n",
    "                         teste.prop_votos_nulos,\n",
    "                         teste.prop_cpf_validos,\n",
    "                         teste.prop_titulo_validos,\n",
    "                         teste.prop_votos_legenda,\n",
    "                         teste.qtde_votos_total_1turno,\n",
    "                         teste.qtde_votos_total_2turno)"
   ]
  },
  {
   "cell_type": "code",
   "execution_count": 13,
   "metadata": {},
   "outputs": [
    {
     "data": {
      "text/plain": [
       "qtde_votos    112683879\n",
       "dtype: int64"
      ]
     },
     "execution_count": 13,
     "metadata": {},
     "output_type": "execute_result"
    }
   ],
   "source": [
    "teste.qtde_votos_total_2turno"
   ]
  },
  {
   "cell_type": "code",
   "execution_count": null,
   "metadata": {},
   "outputs": [],
   "source": []
  }
 ],
 "metadata": {
  "kernelspec": {
   "display_name": "Python 3",
   "language": "python",
   "name": "python3"
  },
  "language_info": {
   "codemirror_mode": {
    "name": "ipython",
    "version": 3
   },
   "file_extension": ".py",
   "mimetype": "text/x-python",
   "name": "python",
   "nbconvert_exporter": "python",
   "pygments_lexer": "ipython3",
   "version": "3.7.0"
  }
 },
 "nbformat": 4,
 "nbformat_minor": 2
}
