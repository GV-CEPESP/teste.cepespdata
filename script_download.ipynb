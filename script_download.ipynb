{
 "cells": [
  {
   "cell_type": "code",
   "execution_count": 1,
   "metadata": {},
   "outputs": [],
   "source": [
    "import numpy as np\n",
    "import pandas as pd\n",
    "import requests\n",
    "import os\n",
    "import zipfile"
   ]
  },
  {
   "cell_type": "markdown",
   "metadata": {},
   "source": [
    "## Download Seção"
   ]
  },
  {
   "cell_type": "code",
   "execution_count": 2,
   "metadata": {},
   "outputs": [],
   "source": [
    "def download_detalhe_votacao_secao(anos):\n",
    "    print(\"Starting detalhe_votacao_secao:\")\n",
    "    u0 = \"http://agencia.tse.jus.br/estatistica/sead/odsele/detalhe_votacao_secao/detalhe_votacao_secao_ANO.zip\"\n",
    "    b_path = \"raw_data/arquivos_secao/\"\n",
    "    for ano in anos:\n",
    "        ano = str(ano)\n",
    "        url_use = u0.replace(\"ANO\", ano)\n",
    "        #Download zip files\n",
    "        with open(b_path+\"detalhe_votacao_secao_\"+ano+\".zip\", \"wb\") as f:\n",
    "            print('Downloading ' + ano + '...')\n",
    "            response = requests.get(u0.replace(\"ANO\",ano))\n",
    "            f.write(response.content)\n",
    "            \n",
    "        # Extract files from zip\n",
    "        with zipfile.ZipFile(b_path+\"detalhe_votacao_secao_\"+ano+\".zip\") as a:\n",
    "            print(\"Extracting file...\")\n",
    "            try:\n",
    "                a.extractall(b_path+\"unziped/\")\n",
    "            except:\n",
    "                pass\n",
    "            \n",
    "    print(\"Download completed VOTACAO_SECAO!\")\n",
    "            \n",
    "def download_vagas(anos):\n",
    "    print(\"Starting consulta_vagas:\")\n",
    "    u0 = \"http://agencia.tse.jus.br/estatistica/sead/odsele/consulta_vagas/consulta_vagas_ANO.zip\"\n",
    "    b_path = \"raw_data/arquivos_vagas/\"\n",
    "    for ano in anos:\n",
    "        ano = str(ano)\n",
    "        url_use = u0.replace(\"ANO\", ano)\n",
    "        \n",
    "        #Downlaod zip files\n",
    "        with open(b_path + \"consulta_vagas_\"+ano+\".zip\", \"wb\") as f:\n",
    "            print('Downloading ' + ano + '...')\n",
    "            response = requests.get(u0.replace(\"ANO\",ano))\n",
    "            f.write(response.content)\n",
    "        \n",
    "        # Extract files from zip\n",
    "        with zipfile.ZipFile(b_path+\"consulta_vagas_\"+ano+\".zip\") as a:\n",
    "            print(\"Extracting file...\")\n",
    "            a.extractall(b_path+\"unziped/\")\n",
    "            \n",
    "    print(\"Downloaded and unziped VAGAS!\")"
   ]
  },
  {
   "cell_type": "code",
   "execution_count": 3,
   "metadata": {},
   "outputs": [
    {
     "name": "stdout",
     "output_type": "stream",
     "text": [
      "Downloading consulta_vagas and detalhes_votocao_secao (1998,2018):\n",
      "Starting detalhe_votacao_secao:\n",
      "Downloading 1998...\n",
      "Extracting file...\n",
      "Downloading 2002...\n",
      "Extracting file...\n",
      "Downloading 2006...\n",
      "Extracting file...\n",
      "Downloading 2010...\n",
      "Extracting file...\n",
      "Downloading 2014...\n",
      "Extracting file...\n",
      "Downloading 2018...\n",
      "Extracting file...\n",
      "Download completed VOTACAO_SECAO!\n",
      "Starting consulta_vagas:\n",
      "Downloading 1998...\n",
      "Extracting file...\n",
      "Downloading 2002...\n",
      "Extracting file...\n",
      "Downloading 2006...\n",
      "Extracting file...\n",
      "Downloading 2010...\n",
      "Extracting file...\n",
      "Downloading 2014...\n",
      "Extracting file...\n",
      "Downloading 2018...\n",
      "Extracting file...\n",
      "Downloaded and unziped VAGAS!\n"
     ]
    }
   ],
   "source": [
    "if __name__ == \"__main__\":\n",
    "    print(\"Downloading consulta_vagas and detalhes_votocao_secao (1998,2018):\")\n",
    "    dirs = [\"raw_data\", \"raw_data/arquivos_secao\", \"raw_data/arquivos_vagas\"]\n",
    "    for directory in dirs:\n",
    "        if not os.path.exists(directory):\n",
    "            os.makedirs(directory)\n",
    "            \n",
    "    anos = np.arange(1998,2018,4)\n",
    "    download_detalhe_votacao_secao(anos)\n",
    "    download_vagas(anos)"
   ]
  },
  {
   "cell_type": "code",
   "execution_count": 4,
   "metadata": {},
   "outputs": [],
   "source": []
  }
 ],
 "metadata": {
  "kernelspec": {
   "display_name": "Python 3",
   "language": "python",
   "name": "python3"
  },
  "language_info": {
   "codemirror_mode": {
    "name": "ipython",
    "version": 3
   },
   "file_extension": ".py",
   "mimetype": "text/x-python",
   "name": "python",
   "nbconvert_exporter": "python",
   "pygments_lexer": "ipython3",
   "version": "3.6.6"
  }
 },
 "nbformat": 4,
 "nbformat_minor": 2
}
