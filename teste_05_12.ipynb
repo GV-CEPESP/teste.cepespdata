{
 "cells": [
  {
   "cell_type": "markdown",
   "metadata": {},
   "source": [
    "## Teste de erros (05/12)"
   ]
  },
  {
   "cell_type": "code",
   "execution_count": 12,
   "metadata": {},
   "outputs": [],
   "source": [
    "from teste_cepespdata import teste_cepespdata"
   ]
  },
  {
   "cell_type": "code",
   "execution_count": 13,
   "metadata": {},
   "outputs": [
    {
     "name": "stdout",
     "output_type": "stream",
     "text": [
      "Ano: 2018\n",
      "Cargo: 1 \n",
      "Banco Teste: False\n",
      "\n"
     ]
    }
   ],
   "source": [
    "inst_pres = teste_cepespdata(2018,1, agregacao_regional=6)"
   ]
  },
  {
   "cell_type": "code",
   "execution_count": 14,
   "metadata": {},
   "outputs": [
    {
     "name": "stdout",
     "output_type": "stream",
     "text": [
      "Starting test...\n",
      "Downloading Eleições - BETA...\n",
      "Downloading Candidatos...\n"
     ]
    }
   ],
   "source": [
    "inst_pres.call_teste_geral()"
   ]
  },
  {
   "cell_type": "code",
   "execution_count": 15,
   "metadata": {},
   "outputs": [],
   "source": [
    "import pandas as pd\n",
    "import numpy as np"
   ]
  },
  {
   "cell_type": "code",
   "execution_count": 16,
   "metadata": {},
   "outputs": [],
   "source": [
    "molde = pd.read_csv(\"data/moldes/molde_secao.csv\")"
   ]
  },
  {
   "cell_type": "code",
   "execution_count": 17,
   "metadata": {},
   "outputs": [
    {
     "data": {
      "text/plain": [
       "28"
      ]
     },
     "execution_count": 17,
     "metadata": {},
     "output_type": "execute_result"
    }
   ],
   "source": [
    "sum(np.unique(molde.uf) != \"VT\")"
   ]
  },
  {
   "cell_type": "markdown",
   "metadata": {},
   "source": [
    "### 1.Presidente: Votos duplicados para o candidato do PT "
   ]
  },
  {
   "cell_type": "code",
   "execution_count": 18,
   "metadata": {},
   "outputs": [
    {
     "data": {
      "text/plain": [
       "nome_candidato                              num_turno\n",
       "ALVARO FERNANDES DIAS                       1              859596\n",
       "BENEVENUTO DACIOLO FONSECA DOS SANTOS       1             1348322\n",
       "CIRO FERREIRA GOMES                         1            13344289\n",
       "FERNANDO HADDAD                             1            31341996\n",
       "                                            2            47040775\n",
       "GERALDO JOSÉ RODRIGUES ALCKMIN FILHO        1             5096330\n",
       "GUILHERME CASTRO BOULOS                     1              617119\n",
       "HENRIQUE DE CAMPOS MEIRELLES                1             1288945\n",
       "JAIR MESSIAS BOLSONARO                      1            49276702\n",
       "                                            2            57797477\n",
       "JOSE MARIA EYMAEL                           1               41709\n",
       "JOÃO DIONISIO FILGUEIRA BARRETO AMOEDO      1             2679712\n",
       "JOÃO VICENTE FONTELLA GOULART               1               30175\n",
       "MARIA OSMARINA MARINA DA SILVA VAZ DE LIMA  1             1069570\n",
       "VERA LUCIA PEREIRA DA SILVA SALGADO         1               55762\n",
       "Name: qtde_votos, dtype: int64"
      ]
     },
     "execution_count": 18,
     "metadata": {},
     "output_type": "execute_result"
    }
   ],
   "source": [
    "inst_pres.banco_eleicoes.groupby(['nome_candidato', 'num_turno'])['qtde_votos'].agg('sum')"
   ]
  },
  {
   "cell_type": "markdown",
   "metadata": {},
   "source": [
    "### 2.Senador, Governador e Deputado Federal: Temos 26 UFs,quando deveria ser 27 + unidade eleitoral do exterior (ZZ)"
   ]
  },
  {
   "cell_type": "code",
   "execution_count": 19,
   "metadata": {},
   "outputs": [],
   "source": [
    "from teste_cepespdata import teste_cepespdata"
   ]
  },
  {
   "cell_type": "code",
   "execution_count": 31,
   "metadata": {},
   "outputs": [
    {
     "name": "stdout",
     "output_type": "stream",
     "text": [
      "Ano: 2018\n",
      "Cargo: 3 \n",
      "Banco Teste: False\n",
      "\n"
     ]
    }
   ],
   "source": [
    "inst_gov = teste_cepespdata(2018,3, agregacao_regional=6)"
   ]
  },
  {
   "cell_type": "code",
   "execution_count": 32,
   "metadata": {},
   "outputs": [
    {
     "name": "stdout",
     "output_type": "stream",
     "text": [
      "Starting test...\n",
      "Downloading Eleições - BETA...\n",
      "Downloading Candidatos...\n"
     ]
    }
   ],
   "source": [
    "inst_gov.call_teste_geral()"
   ]
  },
  {
   "cell_type": "code",
   "execution_count": 33,
   "metadata": {},
   "outputs": [
    {
     "data": {
      "text/plain": [
       "(27,)"
      ]
     },
     "execution_count": 33,
     "metadata": {},
     "output_type": "execute_result"
    }
   ],
   "source": [
    "np.unique(inst_gov.banco_eleicoes.uf).shape"
   ]
  },
  {
   "cell_type": "code",
   "execution_count": 43,
   "metadata": {},
   "outputs": [
    {
     "ename": "NameError",
     "evalue": "name 'inst_gov' is not defined",
     "output_type": "error",
     "traceback": [
      "\u001b[1;31m---------------------------------------------------------------------------\u001b[0m",
      "\u001b[1;31mNameError\u001b[0m                                 Traceback (most recent call last)",
      "\u001b[1;32m<ipython-input-43-291dca7e4d9f>\u001b[0m in \u001b[0;36m<module>\u001b[1;34m()\u001b[0m\n\u001b[1;32m----> 1\u001b[1;33m \u001b[0minst_gov\u001b[0m\u001b[1;33m.\u001b[0m\u001b[0mbanco_eleicoes\u001b[0m\u001b[1;33m.\u001b[0m\u001b[0mgroupby\u001b[0m\u001b[1;33m(\u001b[0m\u001b[1;33m[\u001b[0m\u001b[1;34m'uf'\u001b[0m\u001b[1;33m,\u001b[0m \u001b[1;34m'num_turno'\u001b[0m\u001b[1;33m]\u001b[0m\u001b[1;33m)\u001b[0m\u001b[1;33m[\u001b[0m\u001b[1;34m'qtde_votos'\u001b[0m\u001b[1;33m]\u001b[0m\u001b[1;33m.\u001b[0m\u001b[0magg\u001b[0m\u001b[1;33m(\u001b[0m\u001b[1;34m'sum'\u001b[0m\u001b[1;33m)\u001b[0m\u001b[1;33m.\u001b[0m\u001b[0mpivot\u001b[0m\u001b[1;33m(\u001b[0m\u001b[1;34m'uf'\u001b[0m\u001b[1;33m,\u001b[0m \u001b[1;34m'num_turno'\u001b[0m\u001b[1;33m)\u001b[0m\u001b[1;33m\u001b[0m\u001b[0m\n\u001b[0m",
      "\u001b[1;31mNameError\u001b[0m: name 'inst_gov' is not defined"
     ]
    }
   ],
   "source": [
    "inst_gov.banco_eleicoes.groupby(['uf', 'num_turno'])['qtde_votos'].agg('sum').pivot('uf', 'num_turno')"
   ]
  },
  {
   "cell_type": "code",
   "execution_count": 35,
   "metadata": {},
   "outputs": [
    {
     "name": "stdout",
     "output_type": "stream",
     "text": [
      "Ano: 2018\n",
      "Cargo: 5 \n",
      "Banco Teste: False\n",
      "\n"
     ]
    }
   ],
   "source": [
    "inst_sen = teste_cepespdata(2018,5, agregacao_regional=6)"
   ]
  },
  {
   "cell_type": "code",
   "execution_count": 36,
   "metadata": {},
   "outputs": [
    {
     "name": "stdout",
     "output_type": "stream",
     "text": [
      "Starting test...\n",
      "Downloading Eleições - BETA...\n",
      "Downloading Candidatos...\n"
     ]
    }
   ],
   "source": [
    "inst_sen.call_teste_geral()"
   ]
  },
  {
   "cell_type": "code",
   "execution_count": 37,
   "metadata": {},
   "outputs": [
    {
     "data": {
      "text/plain": [
       "(27,)"
      ]
     },
     "execution_count": 37,
     "metadata": {},
     "output_type": "execute_result"
    }
   ],
   "source": [
    "np.unique(inst_sen.banco_eleicoes.uf).shape"
   ]
  },
  {
   "cell_type": "code",
   "execution_count": 38,
   "metadata": {},
   "outputs": [
    {
     "data": {
      "text/plain": [
       "uf  num_turno\n",
       "AC  1              886858\n",
       "AL  1             2459030\n",
       "AM  1             3914836\n",
       "AP  1              563116\n",
       "BA  1            16470620\n",
       "CE  1            10486980\n",
       "DF  1             3382784\n",
       "ES  1             4446414\n",
       "GO  1             7107412\n",
       "MA  1             7209352\n",
       "MG  1            24422508\n",
       "MS  1             2957284\n",
       "MT  1             3514736\n",
       "PA  1             8801222\n",
       "PB  1             4870954\n",
       "PE  1            10783278\n",
       "PI  1             3995174\n",
       "PR  1            13233802\n",
       "RJ  1            18948882\n",
       "RN  1             3932900\n",
       "RO  1             1825828\n",
       "RR  1              573508\n",
       "RS  1            13671732\n",
       "SC  1             8483334\n",
       "SE  1             2559164\n",
       "SP  1            51842640\n",
       "TO  1             1662428\n",
       "Name: qtde_votos, dtype: int64"
      ]
     },
     "execution_count": 38,
     "metadata": {},
     "output_type": "execute_result"
    }
   ],
   "source": [
    "inst_sen.banco_eleicoes.groupby(['uf', 'num_turno'])['qtde_votos'].agg('sum')"
   ]
  },
  {
   "cell_type": "code",
   "execution_count": null,
   "metadata": {},
   "outputs": [],
   "source": []
  },
  {
   "cell_type": "code",
   "execution_count": null,
   "metadata": {},
   "outputs": [],
   "source": [
    "inst_df = teste_cepespdata(2018,6, agregacao_regional=6)"
   ]
  },
  {
   "cell_type": "code",
   "execution_count": null,
   "metadata": {},
   "outputs": [],
   "source": [
    "inst_df.call_teste_geral()"
   ]
  },
  {
   "cell_type": "code",
   "execution_count": null,
   "metadata": {},
   "outputs": [],
   "source": [
    "np.unique(inst_df.banco_eleicoes.uf).shape"
   ]
  },
  {
   "cell_type": "code",
   "execution_count": null,
   "metadata": {},
   "outputs": [],
   "source": [
    "inst_df.banco_eleicoes.groupby(['uf', 'num_turno'])['qtde_votos'].agg('sum')"
   ]
  },
  {
   "cell_type": "code",
   "execution_count": null,
   "metadata": {},
   "outputs": [],
   "source": []
  }
 ],
 "metadata": {
  "kernelspec": {
   "display_name": "Python 3",
   "language": "python",
   "name": "python3"
  },
  "language_info": {
   "codemirror_mode": {
    "name": "ipython",
    "version": 3
   },
   "file_extension": ".py",
   "mimetype": "text/x-python",
   "name": "python",
   "nbconvert_exporter": "python",
   "pygments_lexer": "ipython3",
   "version": "3.7.0"
  }
 },
 "nbformat": 4,
 "nbformat_minor": 2
}
