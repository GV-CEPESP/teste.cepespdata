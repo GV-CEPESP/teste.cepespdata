{
 "cells": [
  {
   "cell_type": "code",
   "execution_count": 1,
   "metadata": {},
   "outputs": [],
   "source": [
    "from teste_cepespdata import teste_cepespdata"
   ]
  },
  {
   "cell_type": "code",
   "execution_count": 7,
   "metadata": {},
   "outputs": [
    {
     "name": "stdout",
     "output_type": "stream",
     "text": [
      "Ano: 2006\n",
      "Cargo: 1 \n",
      "Banco Teste: False\n",
      "\n"
     ]
    }
   ],
   "source": [
    "inst = teste_cepespdata(2006,1, agregacao_regional=6)"
   ]
  },
  {
   "cell_type": "code",
   "execution_count": 8,
   "metadata": {},
   "outputs": [
    {
     "name": "stdout",
     "output_type": "stream",
     "text": [
      "Starting test...\n",
      "Downloading Eleições - BETA...\n",
      "Downloading Candidatos...\n"
     ]
    }
   ],
   "source": [
    "inst.call_teste_geral()"
   ]
  },
  {
   "cell_type": "code",
   "execution_count": 10,
   "metadata": {},
   "outputs": [
    {
     "data": {
      "text/plain": [
       "{'AC',\n",
       " 'AL',\n",
       " 'AM',\n",
       " 'AP',\n",
       " 'BA',\n",
       " 'CE',\n",
       " 'DF',\n",
       " 'ES',\n",
       " 'GO',\n",
       " 'MA',\n",
       " 'MG',\n",
       " 'MS',\n",
       " 'MT',\n",
       " 'PA',\n",
       " 'PB',\n",
       " 'PE',\n",
       " 'PI',\n",
       " 'PR',\n",
       " 'RJ',\n",
       " 'RN',\n",
       " 'RO',\n",
       " 'RR',\n",
       " 'RS',\n",
       " 'SC',\n",
       " 'SE',\n",
       " 'SP',\n",
       " 'TO'}"
      ]
     },
     "execution_count": 10,
     "metadata": {},
     "output_type": "execute_result"
    }
   ],
   "source": [
    "set(inst.banco_eleicoes.uf)"
   ]
  },
  {
   "cell_type": "code",
   "execution_count": 15,
   "metadata": {},
   "outputs": [],
   "source": [
    "import pandas as pd\n",
    "import numpy as np"
   ]
  },
  {
   "cell_type": "code",
   "execution_count": 16,
   "metadata": {},
   "outputs": [],
   "source": [
    "molde = pd.read_csv(\"data/moldes/molde_secao.csv\")"
   ]
  },
  {
   "cell_type": "code",
   "execution_count": 17,
   "metadata": {},
   "outputs": [
    {
     "data": {
      "text/plain": [
       "28"
      ]
     },
     "execution_count": 17,
     "metadata": {},
     "output_type": "execute_result"
    }
   ],
   "source": [
    "sum(np.unique(molde.uf) != \"VT\")"
   ]
  },
  {
   "cell_type": "code",
   "execution_count": null,
   "metadata": {},
   "outputs": [],
   "source": []
  }
 ],
 "metadata": {
  "kernelspec": {
   "display_name": "Python 3",
   "language": "python",
   "name": "python3"
  },
  "language_info": {
   "codemirror_mode": {
    "name": "ipython",
    "version": 3
   },
   "file_extension": ".py",
   "mimetype": "text/x-python",
   "name": "python",
   "nbconvert_exporter": "python",
   "pygments_lexer": "ipython3",
   "version": "3.7.0"
  }
 },
 "nbformat": 4,
 "nbformat_minor": 2
}
