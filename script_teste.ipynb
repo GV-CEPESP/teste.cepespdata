{
 "cells": [
  {
   "cell_type": "code",
   "execution_count": 1,
   "metadata": {},
   "outputs": [],
   "source": [
    "from teste_cepespdata import teste_cepespdata"
   ]
  },
  {
   "cell_type": "code",
   "execution_count": 2,
   "metadata": {},
   "outputs": [
    {
     "name": "stdout",
     "output_type": "stream",
     "text": [
      "Ano: 2018\n",
      "Cargo: 1 \n",
      "Banco Teste: False\n",
      "\n"
     ]
    }
   ],
   "source": [
    "inst = teste_cepespdata(2018,1, agregacao_regional=6)"
   ]
  },
  {
   "cell_type": "code",
   "execution_count": 3,
   "metadata": {},
   "outputs": [
    {
     "name": "stdout",
     "output_type": "stream",
     "text": [
      "Starting test...\n",
      "Downloading Eleições - BETA...\n",
      "Downloading Candidatos...\n"
     ]
    }
   ],
   "source": [
    "inst.call_teste_geral()"
   ]
  },
  {
   "cell_type": "code",
   "execution_count": 4,
   "metadata": {},
   "outputs": [
    {
     "data": {
      "text/plain": [
       "{'AC',\n",
       " 'AL',\n",
       " 'AM',\n",
       " 'AP',\n",
       " 'BA',\n",
       " 'CE',\n",
       " 'DF',\n",
       " 'ES',\n",
       " 'GO',\n",
       " 'MA',\n",
       " 'MG',\n",
       " 'MS',\n",
       " 'MT',\n",
       " 'PA',\n",
       " 'PB',\n",
       " 'PE',\n",
       " 'PI',\n",
       " 'PR',\n",
       " 'RJ',\n",
       " 'RN',\n",
       " 'RO',\n",
       " 'RR',\n",
       " 'RS',\n",
       " 'SC',\n",
       " 'SE',\n",
       " 'SP',\n",
       " 'TO',\n",
       " 'ZZ'}"
      ]
     },
     "execution_count": 4,
     "metadata": {},
     "output_type": "execute_result"
    }
   ],
   "source": [
    "set(inst.banco_eleicoes.uf)"
   ]
  },
  {
   "cell_type": "code",
   "execution_count": 5,
   "metadata": {},
   "outputs": [],
   "source": [
    "import pandas as pd\n",
    "import numpy as np"
   ]
  },
  {
   "cell_type": "code",
   "execution_count": 6,
   "metadata": {},
   "outputs": [],
   "source": [
    "molde = pd.read_csv(\"data/moldes/molde_secao.csv\")"
   ]
  },
  {
   "cell_type": "code",
   "execution_count": 7,
   "metadata": {},
   "outputs": [
    {
     "data": {
      "text/plain": [
       "28"
      ]
     },
     "execution_count": 7,
     "metadata": {},
     "output_type": "execute_result"
    }
   ],
   "source": [
    "sum(np.unique(molde.uf) != \"VT\")"
   ]
  },
  {
   "cell_type": "code",
   "execution_count": 18,
   "metadata": {},
   "outputs": [
    {
     "data": {
      "text/plain": [
       "nome_candidato                              num_turno\n",
       "ALVARO FERNANDES DIAS                       1              859596\n",
       "BENEVENUTO DACIOLO FONSECA DOS SANTOS       1             1348322\n",
       "CIRO FERREIRA GOMES                         1            13344289\n",
       "FERNANDO HADDAD                             1            31341996\n",
       "                                            2            47040775\n",
       "GERALDO JOSÉ RODRIGUES ALCKMIN FILHO        1             5096330\n",
       "GUILHERME CASTRO BOULOS                     1              617119\n",
       "HENRIQUE DE CAMPOS MEIRELLES                1             1288945\n",
       "JAIR MESSIAS BOLSONARO                      1            49276702\n",
       "                                            2            57797477\n",
       "JOSE MARIA EYMAEL                           1               41709\n",
       "JOÃO DIONISIO FILGUEIRA BARRETO AMOEDO      1             2679712\n",
       "JOÃO VICENTE FONTELLA GOULART               1               30175\n",
       "MARIA OSMARINA MARINA DA SILVA VAZ DE LIMA  1             1069570\n",
       "VERA LUCIA PEREIRA DA SILVA SALGADO         1               55762\n",
       "Name: qtde_votos, dtype: int64"
      ]
     },
     "execution_count": 18,
     "metadata": {},
     "output_type": "execute_result"
    }
   ],
   "source": [
    "inst.banco_eleicoes.groupby(['nome_candidato', 'num_turno'])['qtde_votos'].agg('sum')"
   ]
  },
  {
   "cell_type": "code",
   "execution_count": null,
   "metadata": {},
   "outputs": [],
   "source": []
  }
 ],
 "metadata": {
  "kernelspec": {
   "display_name": "Python 3",
   "language": "python",
   "name": "python3"
  },
  "language_info": {
   "codemirror_mode": {
    "name": "ipython",
    "version": 3
   },
   "file_extension": ".py",
   "mimetype": "text/x-python",
   "name": "python",
   "nbconvert_exporter": "python",
   "pygments_lexer": "ipython3",
   "version": "3.7.0"
  }
 },
 "nbformat": 4,
 "nbformat_minor": 2
}
